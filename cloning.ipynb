{
 "cells": [
  {
   "cell_type": "markdown",
   "metadata": {},
   "source": [
    "$$\\newcommand{\\ket}[1]{\\left|{#1}\\right\\rangle}$$\n",
    "$$\\newcommand{\\bra}[1]{\\left\\langle{#1}\\right|}$$\n",
    "$$\\newcommand{\\braket}[2]{\\left\\langle{#1}\\middle|{#2}\\right\\rangle}$$"
   ]
  },
  {
   "cell_type": "markdown",
   "metadata": {},
   "source": [
    "# How to Clone Qubits\n",
    "\n",
    "Although it is impossible to build a qubit cloner that works on all states, it is perfectly possible to build a cloner that works on a pair of orthogonal states. You just perform a measurement that checks which of the two states was input to the cloner. If the result of the measurement is 0, you output the first of the two reference states. If the result is one, you swap the two reference qubits and output the second one."
   ]
  },
  {
   "cell_type": "code",
   "execution_count": 5,
   "metadata": {},
   "outputs": [],
   "source": [
    "import qiskit\n",
    "from qiskit import QuantumCircuit, execute\n",
    "from qiskit.providers.aer import QasmSimulator\n",
    "from qiskit.tools.visualization import plot_histogram\n",
    "from qiskit import IBMQ\n",
    "from qiskit.tools.monitor import job_monitor"
   ]
  },
  {
   "cell_type": "markdown",
   "metadata": {},
   "source": [
    "\n",
    "\n",
    "### Dirac Notation\n",
    "\n",
    "$(1,0,0,0) \\rightarrow \\ket{00}$\n",
    "\n",
    "$(0,1,0,0) \\rightarrow \\ket{01}$\n",
    "\n",
    "$(0,0,1,0) \\rightarrow \\ket{10}$\n",
    "\n",
    "$(0,0,0,1) \\rightarrow \\ket{11}$"
   ]
  },
  {
   "cell_type": "markdown",
   "metadata": {},
   "source": [
    "### Controlled-Not (CNOT)\n",
    "\n",
    "<img src=\"CNOT.png\" style=\"width:8in;\"/>\n",
    "\n",
    "| Dirac Notation | Vector Notation |\n",
    "| ---------------------------- | --------------- |\n",
    "|$\\ket{00}\\rightarrow\\ket{00}$|$(1,0,0,0)\\rightarrow(1,0,0,0)$|\n",
    "|$\\ket{01}\\rightarrow\\ket{01}$|$(0,1,0,0)\\rightarrow(0,1,0,0)$|\n",
    "|$\\ket{10}\\rightarrow\\ket{11}$|$(0,0,1,0)\\rightarrow(0,0,0,1)$|\n",
    "|$\\ket{11}\\rightarrow\\ket{10}$|$(0,0,0,1)\\rightarrow(0,0,1,0)$|\n",
    "\n",
    "Putting these vectors into the rows, the matrix for a CNOT gate is\n",
    "\n",
    "$\\begin{bmatrix}\n",
    "1&0&0&0\\\\\n",
    "0&1&0&0\\\\\n",
    "0&0&0&1\\\\\n",
    "0&0&1&0\n",
    "\\end{bmatrix}$"
   ]
  },
  {
   "cell_type": "markdown",
   "metadata": {},
   "source": [
    "### Qubit-swapping Circuit\n",
    "\n",
    "<img src=\"swapping-5.png\" style=\"width:4in;\"/>\n",
    "\n",
    "| Dirac Notation | Vector Notation |\n",
    "| ---------------------------- | --------------- |\n",
    "|$\\ket{xy}\\rightarrow\\ket{y\\oplus x}\\ket{x}$||\n",
    "|$\\ket{00}\\rightarrow\\ket{00}$|$(1,0,0,0)\\rightarrow(1,0,0,0)$|\n",
    "|$\\ket{01}\\rightarrow\\ket{11}$|$(0,1,0,0)\\rightarrow(0,0,0,1)$|\n",
    "|$\\ket{10}\\rightarrow\\ket{10}$|$(0,0,1,0)\\rightarrow(0,0,1,0)$|\n",
    "|$\\ket{11}\\rightarrow\\ket{01}$|$(0,0,0,1)\\rightarrow(0,1,0,0)$|"
   ]
  },
  {
   "cell_type": "code",
   "execution_count": 6,
   "metadata": {},
   "outputs": [
    {
     "data": {
      "text/html": [
       "<pre style=\"word-wrap: normal;white-space: pre;background: #fff0;line-height: 1.1;font-family: &quot;Courier New&quot;,Courier,monospace\">          ┌───┐     ┌─┐\n",
       "q_0: ──■──┤ X ├──■──┤M├\n",
       "     ┌─┴─┐└─┬─┘┌─┴─┐└╥┘\n",
       "q_1: ┤ X ├──■──┤ X ├─╫─\n",
       "     └───┘     └───┘ ║ \n",
       "c: 2/════════════════╩═\n",
       "                     0 </pre>"
      ],
      "text/plain": [
       "          ┌───┐     ┌─┐\n",
       "q_0: ──■──┤ X ├──■──┤M├\n",
       "     ┌─┴─┐└─┬─┘┌─┴─┐└╥┘\n",
       "q_1: ┤ X ├──■──┤ X ├─╫─\n",
       "     └───┘     └───┘ ║ \n",
       "c: 2/════════════════╩═\n",
       "                     0 "
      ]
     },
     "execution_count": 6,
     "metadata": {},
     "output_type": "execute_result"
    }
   ],
   "source": [
    "circuit = qiskit.QuantumCircuit(2,2)\n",
    "circuit.cx(0,1)\n",
    "circuit.cx(1,0)\n",
    "circuit.cx(0,1)\n",
    "circuit.measure(0,0)\n",
    "circuit.draw()"
   ]
  },
  {
   "cell_type": "markdown",
   "metadata": {},
   "source": [
    "\n",
    "Three CNOTs in series:\n",
    "\n",
    "$\\begin{bmatrix}\n",
    "1&0&0&0\\\\\n",
    "0&1&0&0\\\\\n",
    "0&0&0&1\\\\\n",
    "0&0&1&0\\end{bmatrix}\n",
    "\\begin{bmatrix}\n",
    "1&0&0&0\\\\\n",
    "0&0&0&1\\\\\n",
    "0&0&1&0\\\\\n",
    "0&1&0&0\n",
    "\\end{bmatrix}\\begin{bmatrix}\n",
    "1&0&0&0\\\\\n",
    "0&1&0&0\\\\\n",
    "0&0&0&1\\\\\n",
    "0&0&1&0\n",
    "\\end{bmatrix}=\n",
    "\\begin{bmatrix}\n",
    "1&0&0&0\\\\\n",
    "0&0&1&0\\\\\n",
    "0&1&0&0\\\\\n",
    "0&0&0&1\\end{bmatrix}$\n",
    "\n",
    "Verifying the circuit, reading off the columns:\n",
    "\n",
    "| Vector Notation | Dirac Notation |\n",
    "| --------------- | -------------- |\n",
    "||$\\ket{ab}\\rightarrow\\ket{ba}$|\n",
    "| $(1,0,0,0)\\rightarrow(1,0,0,0)$|$\\ket{00}\\rightarrow\\ket{00}$|\n",
    "| $(0,1,0,0)\\rightarrow(0,0,1,0)$|$\\ket{01}\\rightarrow\\ket{10}$|\n",
    "| $(0,0,1,0)\\rightarrow(0,1,0,0)$|$\\ket{10}\\rightarrow\\ket{01}$|\n",
    "| $(0,0,0,1)\\rightarrow(0,0,0,1)$|$\\ket{11}\\rightarrow\\ket{11}$|"
   ]
  },
  {
   "cell_type": "markdown",
   "metadata": {},
   "source": [
    "# Cloner\n",
    "We run the cloner twice; once with an input $\\ket{0}$ and once with an input $\\ket{1}$"
   ]
  },
  {
   "cell_type": "code",
   "execution_count": 11,
   "metadata": {},
   "outputs": [],
   "source": [
    "counts=[]\n",
    "for input_state in [0,1]:\n",
    "    initialization=''\n",
    "    if input_state == 1:\n",
    "        initialization = 'x q[0]; //qubit to be cloned |1>\\n'\n",
    "    cloner1 = \"\"\"\n",
    "    OPENQASM 2.0;\n",
    "    include \"qelib1.inc\";\n",
    "    qreg q[5];\n",
    "    creg c[2];\n",
    "    x q[2];  //Set reference qubit 2 to |1>\n",
    "    x q[4];  //Set reference qubit 4 to |1>\n",
    "\n",
    "    \"\"\" + initialization + \\\n",
    "    \"\"\"\n",
    "    measure q[0] -> c[0];\n",
    "    if (c==1) CX q[1],q[2]; //swap reference qubits 1 and 2 if qubit to be cloned was |1>\n",
    "    if (c==1) CX q[2],q[1];\n",
    "    if (c==1) CX q[1],q[2];\n",
    "    \n",
    "    if (c==1) CX q[3],q[4]; //swap reference qubits 3 and 4 if qubit to be cloned was |1>\n",
    "    if (c==1) CX q[4],q[3];\n",
    "    if (c==1) CX q[3],q[4];\n",
    "    measure q[1]->c[0];\n",
    "    measure q[3]->c[1];\n",
    "    \"\"\"\n",
    "\n",
    "    qc= QuantumCircuit.from_qasm_str(cloner1)\n",
    "    result = execute(qc, backend=qiskit.BasicAer.get_backend('qasm_simulator'),shots=1024).result()\n",
    "    counts.append(result.get_counts())\n"
   ]
  },
  {
   "cell_type": "code",
   "execution_count": 12,
   "metadata": {},
   "outputs": [
    {
     "data": {
      "image/png": "[encoded data removed]",
      "text/plain": [
       "<Figure size 504x360 with 1 Axes>"
      ]
     },
     "execution_count": 12,
     "metadata": {},
     "output_type": "execute_result"
    }
   ],
   "source": [
    "plot_histogram(counts[0])"
   ]
  },
  {
   "cell_type": "code",
   "execution_count": 13,
   "metadata": {},
   "outputs": [
    {
     "data": {
      "image/png": "[encoded data removed]",
      "text/plain": [
       "<Figure size 504x360 with 1 Axes>"
      ]
     },
     "execution_count": 13,
     "metadata": {},
     "output_type": "execute_result"
    }
   ],
   "source": [
    "plot_histogram(counts[1])"
   ]
  },
  {
   "cell_type": "code",
   "execution_count": null,
   "metadata": {},
   "outputs": [],
   "source": []
  }
 ],
 "metadata": {
  "kernelspec": {
   "display_name": "venv_qiskit",
   "language": "python",
   "name": "venv_qiskit"
  },
  "language_info": {
   "codemirror_mode": {
    "name": "ipython",
    "version": 3
   },
   "file_extension": ".py",
   "mimetype": "text/x-python",
   "name": "python",
   "nbconvert_exporter": "python",
   "pygments_lexer": "ipython3",
   "version": "3.8.10"
  }
 },
 "nbformat": 4,
 "nbformat_minor": 4
}
