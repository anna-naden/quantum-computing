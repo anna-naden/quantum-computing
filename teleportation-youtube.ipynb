{
 "cells": [
  {
   "cell_type": "markdown",
   "metadata": {},
   "source": [
    "$$\\newcommand{\\ket}[1]{\\left|{#1}\\right\\rangle}$$\n",
    "$$\\newcommand{\\bra}[1]{\\left\\langle{#1}\\right|}$$\n",
    "$$\\newcommand{\\braket}[2]{\\left\\langle{#1}\\middle|{#2}\\right\\rangle}$$"
   ]
  },
  {
   "cell_type": "code",
   "execution_count": null,
   "metadata": {},
   "outputs": [],
   "source": [
    "import qiskit\n",
    "from qiskit import QuantumCircuit, transpile, execute\n",
    "from qiskit.extensions import UnitaryGate\n",
    "from qiskit.providers.aer import QasmSimulator\n",
    "from qiskit.tools.visualization import plot_histogram\n",
    "from qiskit import IBMQ\n",
    "from qiskit.tools.monitor import job_monitor"
   ]
  },
  {
   "cell_type": "markdown",
   "metadata": {},
   "source": [
    "\n",
    "\n",
    "\n",
    "\n",
    "\n",
    "\n",
    "\n",
    "\n",
    "\n",
    "### Dirac Notation\n",
    "\n",
    "$(1,0,0,0) \\rightarrow \\ket{00}$\n",
    "\n",
    "$(0,1,0,0) \\rightarrow \\ket{01}$\n",
    "\n",
    "$(0,0,1,0) \\rightarrow \\ket{10}$\n",
    "\n",
    "$(0,0,0,1) \\rightarrow \\ket{11}$"
   ]
  },
  {
   "cell_type": "markdown",
   "metadata": {},
   "source": [
    "# Measurement: Bell Operator Basis\n",
    "\n",
    "*Physical Review Letters, 70:13, 1895. 29 March 1993*\n",
    "\n",
    "Eqns 1,2\n",
    "\n",
    "https://researcher.watson.ibm.com/researcher/files/us-bennetc/BBCJPW.pdf.\n",
    "\n",
    "$U=\\begin{bmatrix}\n",
    "\\Psi_{12}^{(+)}\\\\\n",
    "\\Psi_{12}^{(-)}\\\\\n",
    "\\Phi_{12}^{(+)}\\\\\n",
    "\\Phi_{12}^{(-)}\n",
    "\\end{bmatrix}=\\begin{bmatrix}\n",
    "0&1&1&0\\\\\n",
    "0&-1&1&0\\\\\n",
    "1&0&0&1\\\\\n",
    "1&0&0&-1\n",
    "\\end{bmatrix}/\\sqrt{2}$\n",
    "\n",
    "$h_0\\cdot X_0 \\cdot X_1\\cdot CNOT_{0,1}\\cdot X_1 \\cdot X_0=\n",
    "(\\begin{bmatrix}\n",
    "1&1&0&0\\\\\n",
    "1&-1&0&0\\\\\n",
    "0&0&1&1\\\\\n",
    "0&0&1&-1\n",
    "\\end{bmatrix}/\\sqrt{2})\n",
    "\\begin{bmatrix}\n",
    "0&1&0&0\\\\\n",
    "1&0&0&0\\\\\n",
    "0&0&0&1\\\\\n",
    "0&0&1&0\n",
    "\\end{bmatrix}\n",
    "\\begin{bmatrix}\n",
    "0&0&1&0\\\\\n",
    "0&0&0&1\\\\\n",
    "1&0&0&0\\\\\n",
    "0&1&0&0\n",
    "\\end{bmatrix}\\begin{bmatrix}\n",
    "1&0&0&0\\\\\n",
    "0&0&0&1\\\\\n",
    "0&0&1&0\\\\\n",
    "0&1&0&0\n",
    "\\end{bmatrix}\n",
    "\\begin{bmatrix}\n",
    "0&0&1&0\\\\\n",
    "0&0&0&1\\\\\n",
    "1&0&0&0\\\\\n",
    "0&1&0&0\n",
    "\\end{bmatrix}\n",
    "\\begin{bmatrix}\n",
    "0&1&0&0\\\\\n",
    "1&0&0&0\\\\\n",
    "0&0&0&1\\\\\n",
    "0&0&1&0\n",
    "\\end{bmatrix}\n",
    "=\\begin{bmatrix}\n",
    "0&1&1&0\\\\\n",
    "0&-1&1&0\\\\\n",
    "1&0&0&1\\\\\n",
    "1&0&0&-1\n",
    "\\end{bmatrix}/\\sqrt{2}=U$\n",
    "\n",
    "\n",
    "\n",
    "\n"
   ]
  },
  {
   "cell_type": "code",
   "execution_count": 8,
   "metadata": {},
   "outputs": [],
   "source": [
    "counts=[]\n",
    "for input_state in [0,1]:\n",
    "    particle_1=''\n",
    "    if input_state == 1:\n",
    "        particle_1 = 'x q[0]; //Particle 1 spin down\\n'\n",
    "    cloner1 = \"\"\"\n",
    "    OPENQASM 2.0;\n",
    "    include \"qelib1.inc\";\n",
    "\n",
    "    qreg q[3]; //Three particles\n",
    "    creg c[3]; //Three classical bits\n",
    "    \n",
    "    h q[1]; // Alice entangles particles two and three to get Psi_{23}^-\n",
    "    cx q[1], q[2];\n",
    "    x q[1];\n",
    "\n",
    "    z q[1];\n",
    "    \n",
    "    \"\"\" + particle_1 + \\\n",
    "    \"\"\"\n",
    "    \n",
    "    x q[0]; // Measurement: Bell operator basis\n",
    "    x q[1];\n",
    "    cx q[0],q[1];\n",
    "    x q[1];\n",
    "    x q[0];\n",
    "    h q[0];\n",
    "    \n",
    "    \n",
    "    measure q[0]->c[0]; //Alice measurement\n",
    "    measure q[1]->c[1];\n",
    "\n",
    "    if (c == 0) z q[2]; //Eqn 6 - Bob's transformation to get the teleported qubit\n",
    "    if (c == 3) x q[2]; // |11>\n",
    "    if (c == 2) y q[2]; // |10>\n",
    "    \n",
    "    measure q[2]->c[2]; // Measure the teleported qubit\n",
    "    \"\"\"\n",
    "\n",
    "    qc= QuantumCircuit.from_qasm_str(cloner1)\n",
    "    backend=qiskit.BasicAer.get_backend('qasm_simulator')\n",
    "    simulate = True\n",
    "    if not simulate:\n",
    "        IBMQ.load_account()\n",
    "        provider = IBMQ.get_provider(hub='ibm-q', group='open', project='main')\n",
    "        for b in provider.backends():\n",
    "            print(b)\n",
    "        backend = provider.get_backend('ibmq_quito')    \n",
    "        job = execute(qc, backend=backend, shots=1000)\n",
    "        job_monitor(job)\n",
    "        result = job.result()\n",
    "    else:\n",
    "        result = execute(qc, backend=backend,shots=1000).result()\n",
    "    counts.append(result.get_counts())\n"
   ]
  },
  {
   "cell_type": "code",
   "execution_count": 9,
   "metadata": {},
   "outputs": [
    {
     "data": {
      "image/png": "[encoded data removed]",
      "text/plain": [
       "<Figure size 504x360 with 1 Axes>"
      ]
     },
     "execution_count": 9,
     "metadata": {},
     "output_type": "execute_result"
    }
   ],
   "source": [
    "plot_histogram(counts[0])"
   ]
  },
  {
   "cell_type": "code",
   "execution_count": 10,
   "metadata": {},
   "outputs": [
    {
     "data": {
      "image/png": "[encoded data removed]",
      "text/plain": [
       "<Figure size 504x360 with 1 Axes>"
      ]
     },
     "execution_count": 10,
     "metadata": {},
     "output_type": "execute_result"
    }
   ],
   "source": [
    "plot_histogram(counts[1])"
   ]
  },
  {
   "cell_type": "code",
   "execution_count": null,
   "metadata": {},
   "outputs": [],
   "source": []
  }
 ],
 "metadata": {
  "kernelspec": {
   "display_name": "venv_qiskit",
   "language": "python",
   "name": "venv_qiskit"
  },
  "language_info": {
   "codemirror_mode": {
    "name": "ipython",
    "version": 3
   },
   "file_extension": ".py",
   "mimetype": "text/x-python",
   "name": "python",
   "nbconvert_exporter": "python",
   "pygments_lexer": "ipython3",
   "version": "3.8.10"
  }
 },
 "nbformat": 4,
 "nbformat_minor": 4
}
