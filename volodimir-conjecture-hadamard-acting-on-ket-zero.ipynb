{
 "cells": [
  {
   "cell_type": "code",
   "execution_count": 1,
   "metadata": {},
   "outputs": [],
   "source": [
    "import qiskit\n",
    "from qiskit import QuantumCircuit, transpile, execute\n",
    "from qiskit.extensions import UnitaryGate\n",
    "from qiskit.providers.aer import QasmSimulator\n",
    "from qiskit.tools.visualization import plot_bloch_multivector, plot_histogram\n",
    "from qiskit import IBMQ\n",
    "from qiskit.tools.monitor import job_monitor\n",
    "\n",
    "import numpy as np\n",
    "import matplotlib.pyplot as plt\n",
    "import warnings\n",
    "import math\n",
    "warnings.filterwarnings('ignore')"
   ]
  },
  {
   "cell_type": "code",
   "execution_count": 2,
   "metadata": {},
   "outputs": [],
   "source": [
    "from qiskit.tools.visualization import plot_bloch_multivector, plot_histogram"
   ]
  },
  {
   "cell_type": "markdown",
   "metadata": {},
   "source": [
    "$$\\newcommand{\\ket}[1]{\\left|{#1}\\right\\rangle}$$\n",
    "$$\\newcommand{\\bra}[1]{\\left\\langle{#1}\\right|}$$\n",
    "$$\\newcommand{\\braket}[2]{\\left\\langle{#1}\\middle|{#2}\\right\\rangle}$$"
   ]
  },
  {
   "cell_type": "code",
   "execution_count": 6,
   "metadata": {},
   "outputs": [
    {
     "name": "stderr",
     "output_type": "stream",
     "text": [
      "ibmqfactory.load_account:WARNING:2021-10-03 20:14:17,692: Credentials are already in use. The existing account in the session will be replaced.\n"
     ]
    }
   ],
   "source": [
    "theta=math.radians(45)\n",
    "circuit=qiskit.QuantumCircuit(1,1)\n",
    "circuit.h(0)\n",
    "circuit.h(0)\n",
    "circuit.measure(0,0)\n",
    "#qiskit.__qiskit_version__\n",
    "from qiskit import IBMQ\n",
    "#IBMQ.save_account('18efd5018b00323f5067f48f9b32e44c06c925296ffa6ef34f5b21e647925c945a8dd97a62469066d4f53f51f4cfc614ece675ce6a99b4272e636ac4a6faa33e5')\n",
    "IBMQ.load_account()\n",
    "# compiled_circuit = transpile(circuit, simulator)\n",
    "provider = IBMQ.get_provider(hub='ibm-q', group='open', project='main')\n",
    "qcomp = provider.get_backend('ibmq_santiago')\n",
    "job = execute(circuit, backend=qcomp)\n",
    "\n",
    "result = job.result()\n",
    "counts = result.get_counts(circuit)\n"
   ]
  }
 ],
 "metadata": {
  "kernelspec": {
   "display_name": "venv_qiskit",
   "language": "python",
   "name": "venv_qiskit"
  },
  "language_info": {
   "codemirror_mode": {
    "name": "ipython",
    "version": 3
   },
   "file_extension": ".py",
   "mimetype": "text/x-python",
   "name": "python",
   "nbconvert_exporter": "python",
   "pygments_lexer": "ipython3",
   "version": "3.8.10"
  }
 },
 "nbformat": 4,
 "nbformat_minor": 4
}
