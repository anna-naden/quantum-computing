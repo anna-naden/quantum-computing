{
 "cells": [
  {
   "cell_type": "markdown",
   "metadata": {},
   "source": [
    "# Quantum Gates"
   ]
  },
  {
   "cell_type": "code",
   "execution_count": 1,
   "metadata": {},
   "outputs": [],
   "source": [
    "import qiskit\n",
    "from qiskit import QuantumCircuit, transpile, execute\n",
    "from qiskit.extensions import UnitaryGate\n",
    "from qiskit.providers.aer import QasmSimulator\n",
    "from qiskit.tools.visualization import plot_bloch_multivector, plot_histogram\n",
    "from qiskit import IBMQ\n",
    "from qiskit.tools.monitor import job_monitor\n",
    "\n",
    "import numpy as np\n",
    "import matplotlib.pyplot as plt\n",
    "import warnings\n",
    "import math\n",
    "warnings.filterwarnings('ignore')"
   ]
  },
  {
   "cell_type": "code",
   "execution_count": 20,
   "metadata": {},
   "outputs": [],
   "source": [
    "def show_statevector(statevector):\n",
    "    print(f'statevector\\nuu, ud, du, dd:\\n{np.around(statevector[0],3)} {np.around(statevector[1],3)} \\\n",
    "     {np.around(statevector[2], 3)} {np.around(statevector[3],3)}')"
   ]
  },
  {
   "cell_type": "markdown",
   "metadata": {},
   "source": [
    "$$\\newcommand{\\ket}[1]{\\left|{#1}\\right\\rangle}$$\n",
    "$$\\newcommand{\\bra}[1]{\\left\\langle{#1}\\right|}$$\n",
    "$$\\newcommand{\\braket}[2]{\\left\\langle{#1}\\middle|{#2}\\right\\rangle}$$"
   ]
  },
  {
   "cell_type": "markdown",
   "metadata": {},
   "source": [
    "#### zero=$\\ket{u}$=(1,0) \n",
    "#### one=$\\ket{d}$=(0,1)"
   ]
  },
  {
   "cell_type": "markdown",
   "metadata": {},
   "source": [
    "## Not Gate: flip qubit zero"
   ]
  },
  {
   "cell_type": "code",
   "execution_count": 21,
   "metadata": {},
   "outputs": [
    {
     "name": "stdout",
     "output_type": "stream",
     "text": [
      "statevector\n",
      "uu, ud, du, dd:\n",
      "0j (1+0j)      0j 0j\n"
     ]
    }
   ],
   "source": [
    "circuit = QuantumCircuit(2,2)\n",
    "def make_x():\n",
    "    circuit=qiskit.QuantumCircuit(2,2)\n",
    "    circuit.x(0)\n",
    "    return circuit\n",
    "circuit = make_x()\n",
    "\n",
    "simulator = qiskit.Aer.get_backend('statevector_simulator')\n",
    "result = execute(circuit, backend=simulator, shots=1024).result()\n",
    "show_statevector(result.get_statevector())"
   ]
  },
  {
   "cell_type": "markdown",
   "metadata": {},
   "source": [
    "$\\ket{\\Psi}=\\ket{ud}$"
   ]
  },
  {
   "cell_type": "markdown",
   "metadata": {},
   "source": [
    "## Hadamard Gate: Produce mixed state in qubit zero"
   ]
  },
  {
   "cell_type": "markdown",
   "metadata": {},
   "source": [
    "$H=\\sqrt{\\frac{1}{2}}\\begin{bmatrix}\n",
    "1&1\\\\\n",
    "1&-1\\end{bmatrix}$"
   ]
  },
  {
   "cell_type": "code",
   "execution_count": 4,
   "metadata": {},
   "outputs": [],
   "source": [
    "circuit = QuantumCircuit(2,2)\n",
    "def make_h():\n",
    "    circuit=qiskit.QuantumCircuit(2,2)\n",
    "    circuit.h(0)\n",
    "    return circuit\n",
    "circuit = make_h()"
   ]
  },
  {
   "cell_type": "code",
   "execution_count": 5,
   "metadata": {},
   "outputs": [
    {
     "data": {
      "text/html": [
       "<pre style=\"word-wrap: normal;white-space: pre;background: #fff0;line-height: 1.1;font-family: &quot;Courier New&quot;,Courier,monospace\">     ┌───┐\n",
       "q_0: ┤ H ├\n",
       "     └───┘\n",
       "q_1: ─────\n",
       "          \n",
       "c: 2/═════\n",
       "          </pre>"
      ],
      "text/plain": [
       "     ┌───┐\n",
       "q_0: ┤ H ├\n",
       "     └───┘\n",
       "q_1: ─────\n",
       "          \n",
       "c: 2/═════\n",
       "          "
      ]
     },
     "execution_count": 5,
     "metadata": {},
     "output_type": "execute_result"
    }
   ],
   "source": [
    "circuit.draw()"
   ]
  },
  {
   "cell_type": "code",
   "execution_count": 22,
   "metadata": {},
   "outputs": [
    {
     "name": "stdout",
     "output_type": "stream",
     "text": [
      "statevector\n",
      "uu, ud, du, dd:\n",
      "0j (1+0j)      0j 0j\n"
     ]
    }
   ],
   "source": [
    "simulator = qiskit.Aer.get_backend('statevector_simulator')\n",
    "result = execute(circuit, backend=simulator, shots=1024).result()\n",
    "show_statevector(result.get_statevector())"
   ]
  },
  {
   "cell_type": "markdown",
   "metadata": {},
   "source": [
    "$\\ket{\\Psi}=\\sqrt{\\frac{1}{2}}(\\ket{uu}+\\ket{ud}$"
   ]
  },
  {
   "cell_type": "code",
   "execution_count": 7,
   "metadata": {},
   "outputs": [
    {
     "name": "stdout",
     "output_type": "stream",
     "text": [
      "statevector uu:0j ud: (1+0j)     du: 0j dd: 0j\n"
     ]
    }
   ],
   "source": [
    "circuit = QuantumCircuit(2,2)\n",
    "def make_cx():\n",
    "    circuit=qiskit.QuantumCircuit(2,2)\n",
    "    circuit.x(0)\n",
    "    circuit.x(1)\n",
    "    circuit.cx(0,1)\n",
    "    return circuit\n",
    "circuit = make_cx()\n",
    "\n",
    "simulator = qiskit.Aer.get_backend('statevector_simulator')\n",
    "result = execute(circuit, backend=simulator, shots=1024).result()\n",
    "show_statevector(result.get_statevector())"
   ]
  },
  {
   "cell_type": "markdown",
   "metadata": {},
   "source": [
    "## Controlled Not Gate: qubit 0 controls qubit 1"
   ]
  },
  {
   "cell_type": "markdown",
   "metadata": {},
   "source": [
    "$cx(0,1)=\\begin{bmatrix}\n",
    "1&0&0&0\\\\\n",
    "0&0&0&1\\\\\n",
    "0&0&1&0\\\\\n",
    "0&1&0&0\\end{bmatrix}$"
   ]
  },
  {
   "cell_type": "markdown",
   "metadata": {},
   "source": [
    "## Entangled State: $\\ket{\\Psi}=\\sqrt{\\frac{1}{2}}(\\ket{uu}+\\ket{dd}$"
   ]
  },
  {
   "cell_type": "code",
   "execution_count": 8,
   "metadata": {},
   "outputs": [
    {
     "name": "stdout",
     "output_type": "stream",
     "text": [
      "statevector uu:(0.707+0j) ud: 0j     du: 0j dd: (0.707+0j)\n"
     ]
    }
   ],
   "source": [
    "circuit = QuantumCircuit(2,2)\n",
    "def make_hcx():\n",
    "    circuit=qiskit.QuantumCircuit(2,2)\n",
    "    circuit.h(0)\n",
    "    circuit.cx(0,1)\n",
    "    return circuit\n",
    "circuit = make_hcx()\n",
    "\n",
    "simulator = qiskit.Aer.get_backend('statevector_simulator')\n",
    "result = execute(circuit, backend=simulator, shots=1024).result()\n",
    "show_statevector(result.get_statevector())"
   ]
  },
  {
   "cell_type": "code",
   "execution_count": 9,
   "metadata": {},
   "outputs": [
    {
     "data": {
      "text/html": [
       "<pre style=\"word-wrap: normal;white-space: pre;background: #fff0;line-height: 1.1;font-family: &quot;Courier New&quot;,Courier,monospace\">     ┌───┐     \n",
       "q_0: ┤ H ├──■──\n",
       "     └───┘┌─┴─┐\n",
       "q_1: ─────┤ X ├\n",
       "          └───┘\n",
       "c: 2/══════════\n",
       "               </pre>"
      ],
      "text/plain": [
       "     ┌───┐     \n",
       "q_0: ┤ H ├──■──\n",
       "     └───┘┌─┴─┐\n",
       "q_1: ─────┤ X ├\n",
       "          └───┘\n",
       "c: 2/══════════\n",
       "               "
      ]
     },
     "execution_count": 9,
     "metadata": {},
     "output_type": "execute_result"
    }
   ],
   "source": [
    "circuit.draw()"
   ]
  },
  {
   "cell_type": "markdown",
   "metadata": {},
   "source": [
    "## Pauli Z Gate: Flip sign of second amplitude of qubit 1\n",
    "\n",
    "$\\sigma_z=\\begin{bmatrix}\n",
    "1&0\\\\\n",
    "0&-1\\end{bmatrix}$\n",
    "\n",
    "$\\ket{\\psi}=\\sqrt{\\frac{1}{2}}(\\ket{uu}-\\ket{dd})$"
   ]
  },
  {
   "cell_type": "code",
   "execution_count": 10,
   "metadata": {},
   "outputs": [
    {
     "name": "stdout",
     "output_type": "stream",
     "text": [
      "statevector uu:(0.707+0j) ud: 0j     du: (-0+0j) dd: (-0.707+0j)\n"
     ]
    }
   ],
   "source": [
    "circuit = QuantumCircuit(2,2)\n",
    "def make_hcxz():\n",
    "    circuit=qiskit.QuantumCircuit(2,2)\n",
    "    circuit.h(0)\n",
    "    circuit.cx(0,1)\n",
    "    circuit.z(1)\n",
    "    return circuit\n",
    "circuit = make_hcxz()\n",
    "\n",
    "simulator = qiskit.Aer.get_backend('statevector_simulator')\n",
    "result = execute(circuit, backend=simulator, shots=1024).result()\n",
    "show_statevector(result.get_statevector())"
   ]
  },
  {
   "cell_type": "code",
   "execution_count": 11,
   "metadata": {},
   "outputs": [
    {
     "data": {
      "text/html": [
       "<pre style=\"word-wrap: normal;white-space: pre;background: #fff0;line-height: 1.1;font-family: &quot;Courier New&quot;,Courier,monospace\">     ┌───┐          \n",
       "q_0: ┤ H ├──■───────\n",
       "     └───┘┌─┴─┐┌───┐\n",
       "q_1: ─────┤ X ├┤ Z ├\n",
       "          └───┘└───┘\n",
       "c: 2/═══════════════\n",
       "                    </pre>"
      ],
      "text/plain": [
       "     ┌───┐          \n",
       "q_0: ┤ H ├──■───────\n",
       "     └───┘┌─┴─┐┌───┐\n",
       "q_1: ─────┤ X ├┤ Z ├\n",
       "          └───┘└───┘\n",
       "c: 2/═══════════════\n",
       "                    "
      ]
     },
     "execution_count": 11,
     "metadata": {},
     "output_type": "execute_result"
    }
   ],
   "source": [
    "circuit.draw()\n"
   ]
  },
  {
   "cell_type": "markdown",
   "metadata": {},
   "source": [
    "$\\ket{\\Psi}=\\frac{1}{\\sqrt{2}}(\\ket{uu}-\\ket{dd})$"
   ]
  },
  {
   "cell_type": "markdown",
   "metadata": {},
   "source": [
    "## Bell Singlet State: Flip qubit 0\n",
    "\n",
    "$X=\\begin{bmatrix}\n",
    "0&1\\\\1&0\\end{bmatrix}$\n",
    "\n",
    "$\\ket{\\Psi_{23}}=\\sqrt{\\frac{1}{2}}\\ket{ud}-\\ket{du}$"
   ]
  },
  {
   "cell_type": "code",
   "execution_count": 12,
   "metadata": {},
   "outputs": [
    {
     "name": "stdout",
     "output_type": "stream",
     "text": [
      "statevector uu:0j ud: (0.707+0j)     du: (-0.707+0j) dd: (-0+0j)\n"
     ]
    }
   ],
   "source": [
    "\n",
    "def make_bell():\n",
    "    circuit=qiskit.QuantumCircuit(2,2)\n",
    "    circuit.h(0)\n",
    "    circuit.cx(0,1)\n",
    "    circuit.z(1)\n",
    "    circuit.x(0)\n",
    "    return circuit\n",
    "circuit = make_entangled()\n",
    "\n",
    "simulator = qiskit.Aer.get_backend('statevector_simulator')\n",
    "result = execute(circuit, backend=simulator, shots=1024).result()\n",
    "show_statevector(result.get_statevector())"
   ]
  },
  {
   "cell_type": "code",
   "execution_count": 13,
   "metadata": {},
   "outputs": [
    {
     "data": {
      "text/html": [
       "<pre style=\"word-wrap: normal;white-space: pre;background: #fff0;line-height: 1.1;font-family: &quot;Courier New&quot;,Courier,monospace\">     ┌───┐     ┌───┐\n",
       "q_0: ┤ H ├──■──┤ X ├\n",
       "     └───┘┌─┴─┐├───┤\n",
       "q_1: ─────┤ X ├┤ Z ├\n",
       "          └───┘└───┘\n",
       "c: 2/═══════════════\n",
       "                    </pre>"
      ],
      "text/plain": [
       "     ┌───┐     ┌───┐\n",
       "q_0: ┤ H ├──■──┤ X ├\n",
       "     └───┘┌─┴─┐├───┤\n",
       "q_1: ─────┤ X ├┤ Z ├\n",
       "          └───┘└───┘\n",
       "c: 2/═══════════════\n",
       "                    "
      ]
     },
     "execution_count": 13,
     "metadata": {},
     "output_type": "execute_result"
    }
   ],
   "source": [
    "circuit.draw()"
   ]
  },
  {
   "cell_type": "code",
   "execution_count": null,
   "metadata": {},
   "outputs": [],
   "source": []
  }
 ],
 "metadata": {
  "kernelspec": {
   "display_name": "venv_qiskit",
   "language": "python",
   "name": "venv_qiskit"
  },
  "language_info": {
   "codemirror_mode": {
    "name": "ipython",
    "version": 3
   },
   "file_extension": ".py",
   "mimetype": "text/x-python",
   "name": "python",
   "nbconvert_exporter": "python",
   "pygments_lexer": "ipython3",
   "version": "3.8.10"
  }
 },
 "nbformat": 4,
 "nbformat_minor": 4
}
