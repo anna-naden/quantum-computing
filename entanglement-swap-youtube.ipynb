{
 "cells": [
  {
   "cell_type": "markdown",
   "metadata": {},
   "source": [
    "$$\\newcommand{\\ket}[1]{\\left|{#1}\\right\\rangle}$$\n",
    "$$\\newcommand{\\bra}[1]{\\left\\langle{#1}\\right|}$$\n",
    "$$\\newcommand{\\braket}[2]{\\left\\langle{#1}\\middle|{#2}\\right\\rangle}$$"
   ]
  },
  {
   "cell_type": "code",
   "execution_count": 1,
   "metadata": {},
   "outputs": [],
   "source": [
    "import qiskit\n",
    "from qiskit import QuantumCircuit, transpile, execute\n",
    "from qiskit.extensions import UnitaryGate\n",
    "from qiskit.providers.aer import QasmSimulator\n",
    "from qiskit.tools.visualization import plot_histogram\n",
    "from qiskit import IBMQ\n",
    "from qiskit.tools.monitor import job_monitor"
   ]
  },
  {
   "cell_type": "markdown",
   "metadata": {},
   "source": [
    "\n",
    "\n",
    "\n",
    "\n",
    "\n",
    "\n",
    "\n",
    "\n",
    "\n",
    "### Dirac Notation\n",
    "\n",
    "$(1,0,0,0) \\rightarrow \\ket{00}$\n",
    "\n",
    "$(0,1,0,0) \\rightarrow \\ket{01}$\n",
    "\n",
    "$(0,0,1,0) \\rightarrow \\ket{10}$\n",
    "\n",
    "$(0,0,0,1) \\rightarrow \\ket{11}$"
   ]
  },
  {
   "cell_type": "markdown",
   "metadata": {},
   "source": [
    "# Measurement: Bell Operator Basis\n",
    "\n",
    "*Physical Review Letters, 70:13, 1895. 29 March 1993*\n",
    "\n",
    "Eqns 1,2\n",
    "\n",
    "https://researcher.watson.ibm.com/researcher/files/us-bennetc/BBCJPW.pdf.\n",
    "\n",
    "$U=\\begin{bmatrix}\n",
    "\\Psi_{12}^{(+)}\\\\\n",
    "-\\Psi_{12}^{(-)}\\\\\n",
    "\\Phi_{12}^{(+)}\\\\\n",
    "\\Phi_{12}^{(-)}\n",
    "\\end{bmatrix}=\\begin{bmatrix}\n",
    "0&1&1&0\\\\\n",
    "0&-1&1&0\\\\\n",
    "1&0&0&1\\\\\n",
    "1&0&0&-1\n",
    "\\end{bmatrix}/\\sqrt{2}$\n",
    "\n",
    "$h_0\\cdot X_0 \\cdot X_1\\cdot CNOT_{0,1}\\cdot X_1 \\cdot X_0=\n",
    "(\\begin{bmatrix}\n",
    "1&1&0&0\\\\\n",
    "1&-1&0&0\\\\\n",
    "0&0&1&1\\\\\n",
    "0&0&1&-1\n",
    "\\end{bmatrix}/\\sqrt{2})\n",
    "\\begin{bmatrix}\n",
    "0&1&0&0\\\\\n",
    "1&0&0&0\\\\\n",
    "0&0&0&1\\\\\n",
    "0&0&1&0\n",
    "\\end{bmatrix}\n",
    "\\begin{bmatrix}\n",
    "0&0&1&0\\\\\n",
    "0&0&0&1\\\\\n",
    "1&0&0&0\\\\\n",
    "0&1&0&0\n",
    "\\end{bmatrix}\\begin{bmatrix}\n",
    "1&0&0&0\\\\\n",
    "0&0&0&1\\\\\n",
    "0&0&1&0\\\\\n",
    "0&1&0&0\n",
    "\\end{bmatrix}\n",
    "\\begin{bmatrix}\n",
    "0&0&1&0\\\\\n",
    "0&0&0&1\\\\\n",
    "1&0&0&0\\\\\n",
    "0&1&0&0\n",
    "\\end{bmatrix}\n",
    "\\begin{bmatrix}\n",
    "0&1&0&0\\\\\n",
    "1&0&0&0\\\\\n",
    "0&0&0&1\\\\\n",
    "0&0&1&0\n",
    "\\end{bmatrix}\n",
    "=\\begin{bmatrix}\n",
    "0&1&1&0\\\\\n",
    "0&-1&1&0\\\\\n",
    "1&0&0&1\\\\\n",
    "1&0&0&-1\n",
    "\\end{bmatrix}/\\sqrt{2}=U$\n",
    "\n",
    "\n",
    "\n",
    "\n"
   ]
  },
  {
   "cell_type": "code",
   "execution_count": 5,
   "metadata": {},
   "outputs": [],
   "source": [
    "counts=[]\n",
    "for input_state in [0,1]:\n",
    "    data =''\n",
    "    if input_state == 1:\n",
    "        data = 'x q[0]; //Data qubit |1>\\n'\n",
    "    repeater = \"\"\"\n",
    "    OPENQASM 2.0;\n",
    "    include \"qelib1.inc\";\n",
    "\n",
    "    qreg q[5];\n",
    "    creg c[5];\n",
    "    \n",
    "    h q[1]; // Endpoint 1 entangles the link qubits A and A' to get Phi^+\n",
    "    cx q[1], q[2];\n",
    "    x q[1];\n",
    "    z q[1];\n",
    "    \n",
    "    h q[3]; // Endpoint 2 entangles the link qubits B and B' to get Phi^+\n",
    "    cx q[3], q[4];\n",
    "    x q[3];\n",
    "    z q[3];\n",
    "    \n",
    "    \n",
    "    \"\"\" + data + \\\n",
    "    \"\"\"\n",
    "    \n",
    "    x q[2]; // The repeater measures the link qubits A' and B'\n",
    "    x q[3];\n",
    "    cx q[2],q[3];\n",
    "    x q[3];\n",
    "    x q[2];\n",
    "    h q[2];\n",
    "    measure q[2]->c[2];\n",
    "    measure q[3]->c[3];\n",
    "    \n",
    "    // Endpoint 1 measures the data qubit with the first link qubit\n",
    "    x q[0];\n",
    "    x q[1];\n",
    "    cx q[0], q[1];\n",
    "    x q[1];\n",
    "    x q[0];\n",
    "    h q[0];\n",
    "    measure q[0]->c[0];\n",
    "    measure q[1]->c[1];\n",
    "    \n",
    "\n",
    "    //Endpoint 2 reconstructs the repeated qubit\n",
    "    \n",
    "    // Psi+\n",
    "    if (c==0) z q[4];\n",
    "    if (c==2) y q[4];\n",
    "    if (c==3) x q[4];\n",
    "    \n",
    "    // Psi-\n",
    "    if (c==5) z q[4];\n",
    "    if (c==6) x q[4];\n",
    "    if (c==7) y q[4];\n",
    "    \n",
    "    //Phi+\n",
    "    if (c==8) y q[4];\n",
    "    if (c==9) x q[4];\n",
    "    if (c==10) z q[4];\n",
    "    \n",
    "    //Phi-\n",
    "    if (c==12) x q[4];\n",
    "    if (c==13) y q[4];\n",
    "    if (c==15) z q[4];\n",
    "    \n",
    "    measure q[4]->c[4];\n",
    "    \"\"\"    \n",
    "\n",
    "    qc= QuantumCircuit.from_qasm_str(repeater)\n",
    "    backend=qiskit.BasicAer.get_backend('qasm_simulator')\n",
    "    simulate = True\n",
    "    if not simulate:\n",
    "        IBMQ.load_account()\n",
    "        provider = IBMQ.get_provider(hub='ibm-q', group='open', project='main')\n",
    "        for b in provider.backends():\n",
    "            print(b)\n",
    "        backend = provider.get_backend('ibmq_quito')    \n",
    "        job = execute(qc, backend=backend, shots=1000)\n",
    "        job_monitor(job)\n",
    "        result = job.result()\n",
    "    else:\n",
    "        result = execute(qc, backend=backend,shots=1000).result()\n",
    "    counts.append(result.get_counts())\n"
   ]
  },
  {
   "cell_type": "code",
   "execution_count": 6,
   "metadata": {},
   "outputs": [
    {
     "data": {
      "image/png": "[encoded data removed]",
      "text/plain": [
       "<Figure size 504x360 with 1 Axes>"
      ]
     },
     "execution_count": 6,
     "metadata": {},
     "output_type": "execute_result"
    }
   ],
   "source": [
    "plot_histogram(counts[0])"
   ]
  },
  {
   "cell_type": "code",
   "execution_count": 7,
   "metadata": {},
   "outputs": [
    {
     "data": {
      "image/png": "[encoded data removed]",
      "text/plain": [
       "<Figure size 504x360 with 1 Axes>"
      ]
     },
     "execution_count": 7,
     "metadata": {},
     "output_type": "execute_result"
    }
   ],
   "source": [
    "plot_histogram(counts[1])"
   ]
  },
  {
   "cell_type": "code",
   "execution_count": null,
   "metadata": {},
   "outputs": [],
   "source": []
  }
 ],
 "metadata": {
  "kernelspec": {
   "display_name": "venv_qiskit",
   "language": "python",
   "name": "venv_qiskit"
  },
  "language_info": {
   "codemirror_mode": {
    "name": "ipython",
    "version": 3
   },
   "file_extension": ".py",
   "mimetype": "text/x-python",
   "name": "python",
   "nbconvert_exporter": "python",
   "pygments_lexer": "ipython3",
   "version": "3.8.10"
  }
 },
 "nbformat": 4,
 "nbformat_minor": 4
}
