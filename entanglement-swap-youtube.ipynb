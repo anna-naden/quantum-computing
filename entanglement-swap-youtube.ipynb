{
 "cells": [
  {
   "cell_type": "markdown",
   "metadata": {},
   "source": [
    "$$\\newcommand{\\ket}[1]{\\left|{#1}\\right\\rangle}$$\n",
    "$$\\newcommand{\\bra}[1]{\\left\\langle{#1}\\right|}$$\n",
    "$$\\newcommand{\\braket}[2]{\\left\\langle{#1}\\middle|{#2}\\right\\rangle}$$"
   ]
  },
  {
   "cell_type": "code",
   "execution_count": 1,
   "metadata": {},
   "outputs": [],
   "source": [
    "import qiskit\n",
    " \n",
    "from qiskit import QuantumCircuit, transpile, execute\n",
    "from qiskit.extensions import UnitaryGate\n",
    "from qiskit.providers.aer import QasmSimulator\n",
    "from qiskit.tools.visualization import plot_histogram\n",
    "from qiskit import IBMQ\n",
    "from qiskit.tools.monitor import job_monitor\n",
    "import numpy as np\n",
    "import sys\n",
    "sys.path.append(\"/home/anna_user2/jupyter\")\n",
    "from qiskit_util import *\n",
    "from bell import *\n",
    "from kronecker_product import *\n",
    "from reverse_engineer import *"
   ]
  },
  {
   "cell_type": "markdown",
   "metadata": {},
   "source": [
    "\n",
    "\n",
    "\n",
    "\n",
    "\n",
    "\n",
    "\n",
    "\n",
    "\n",
    "### Dirac Notation\n",
    "\n",
    "$(1,0,0,0) \\rightarrow \\ket{00}$\n",
    "\n",
    "$(0,1,0,0) \\rightarrow \\ket{01}$\n",
    "\n",
    "$(0,0,1,0) \\rightarrow \\ket{10}$\n",
    "\n",
    "$(0,0,0,1) \\rightarrow \\ket{11}$"
   ]
  },
  {
   "cell_type": "markdown",
   "metadata": {},
   "source": [
    "# Measurement: Bell Operator Basis\n",
    "\n",
    "*Physical Review Letters, 70:13, 1895. 29 March 1993*\n",
    "\n",
    "Eqns 1,2\n",
    "\n",
    "https://researcher.watson.ibm.com/researcher/files/us-bennetc/BBCJPW.pdf.\n",
    "\n",
    "$U=\\begin{bmatrix}\n",
    "\\Psi_{12}^{(+)}\\\\\n",
    "-\\Psi_{12}^{(-)}\\\\\n",
    "\\Phi_{12}^{(+)}\\\\\n",
    "\\Phi_{12}^{(-)}\n",
    "\\end{bmatrix}=\\begin{bmatrix}\n",
    "0&1&1&0\\\\\n",
    "0&-1&1&0\\\\\n",
    "1&0&0&1\\\\\n",
    "1&0&0&-1\n",
    "\\end{bmatrix}/\\sqrt{2}$\n",
    "\n",
    "$h_0\\cdot X_0 \\cdot X_1\\cdot CNOT_{0,1}\\cdot X_1 \\cdot X_0=\n",
    "(\\begin{bmatrix}\n",
    "1&1&0&0\\\\\n",
    "1&-1&0&0\\\\\n",
    "0&0&1&1\\\\\n",
    "0&0&1&-1\n",
    "\\end{bmatrix}/\\sqrt{2})\n",
    "\\begin{bmatrix}\n",
    "0&1&0&0\\\\\n",
    "1&0&0&0\\\\\n",
    "0&0&0&1\\\\\n",
    "0&0&1&0\n",
    "\\end{bmatrix}\n",
    "\\begin{bmatrix}\n",
    "0&0&1&0\\\\\n",
    "0&0&0&1\\\\\n",
    "1&0&0&0\\\\\n",
    "0&1&0&0\n",
    "\\end{bmatrix}\\begin{bmatrix}\n",
    "1&0&0&0\\\\\n",
    "0&0&0&1\\\\\n",
    "0&0&1&0\\\\\n",
    "0&1&0&0\n",
    "\\end{bmatrix}\n",
    "\\begin{bmatrix}\n",
    "0&0&1&0\\\\\n",
    "0&0&0&1\\\\\n",
    "1&0&0&0\\\\\n",
    "0&1&0&0\n",
    "\\end{bmatrix}\n",
    "\\begin{bmatrix}\n",
    "0&1&0&0\\\\\n",
    "1&0&0&0\\\\\n",
    "0&0&0&1\\\\\n",
    "0&0&1&0\n",
    "\\end{bmatrix}\n",
    "=\\begin{bmatrix}\n",
    "0&1&1&0\\\\\n",
    "0&-1&1&0\\\\\n",
    "1&0&0&1\\\\\n",
    "1&0&0&-1\n",
    "\\end{bmatrix}/\\sqrt{2}=U$\n",
    "\n",
    "\n",
    "\n",
    "\n"
   ]
  },
  {
   "cell_type": "code",
   "execution_count": 2,
   "metadata": {},
   "outputs": [],
   "source": [
    "counts=[]\n",
    "results=[]\n",
    "for input_state in [0,1]:\n",
    "    data =''\n",
    "    if input_state == 1:\n",
    "        data = 'x one; //Data qubit |1>\\n'\n",
    "    repeater = \\\n",
    "    \"\"\"\n",
    "    OPENQASM 2.0;\n",
    "    include \"qelib1.inc\";\n",
    "    \n",
    "    creg c[5];\n",
    "    qreg one[1];\n",
    "    qreg a[1];\n",
    "    qreg ap[1];\n",
    "    qreg bp[1];\n",
    "    qreg b[1];\n",
    "\n",
    "    gate entangle() q1,q2\n",
    "    {\n",
    "        x q1;\n",
    "        x q2;\n",
    "        h q1;\n",
    "        cx q1,q2;\n",
    "    }\n",
    "\n",
    "    gate bell_measure() q1,q2\n",
    "    {\n",
    "        x q2;\n",
    "        cx q1,q2;\n",
    "        x q2;\n",
    "        x q1;\n",
    "        h q1;\n",
    "        z q1;\n",
    "    }\n",
    "    \n",
    "\n",
    "    entangle() a,ap;\n",
    "    entangle() bp,b;\n",
    "\n",
    "    \n",
    "    \"\"\" + data + \\\n",
    "    \"\"\"\n",
    "    bell_measure() ap,bp;\n",
    "    measure ap->c[2];\n",
    "    measure bp->c[3];\n",
    "    \n",
    "    bell_measure() one,a;\n",
    "    measure one->c[0];\n",
    "    measure a->c[1];\n",
    "    \n",
    "    if (c==1) z b;\n",
    "    if (c==2) x b;\n",
    "    if (c==3) y b;\n",
    "    if (c==4) z b;\n",
    "    if (c==6) y b;\n",
    "    if (c==7) x b;\n",
    "    if (c==8) x b;\n",
    "    if (c==9) y b;\n",
    "    if (c==11) z b;\n",
    "    if (c==12) y b;\n",
    "    if (c==13) x b;\n",
    "    if (c==14) z b;\n",
    "    measure b->c[4];\n",
    "    \"\"\"\n",
    "    \n",
    "    qc= QuantumCircuit.from_qasm_str(repeater)\n",
    "    backend=qiskit.BasicAer.get_backend('qasm_simulator')\n",
    "    simulate = True\n",
    "    if not simulate:\n",
    "        IBMQ.load_account()\n",
    "        provider = IBMQ.get_provider(hub='ibm-q', group='open', project='main')\n",
    "        for b in provider.backends():\n",
    "            print(b)\n",
    "        backend = provider.get_backend('ibmq_quito')    \n",
    "        job = execute(qc, backend=backend, shots=1000)\n",
    "        job_monitor(job)\n",
    "        result = job.result()\n",
    "    else:\n",
    "        result = execute(qc, backend=backend,shots=1000).result()\n",
    "    counts.append(result.get_counts())\n",
    "    results.append(result)\n"
   ]
  },
  {
   "cell_type": "code",
   "execution_count": 3,
   "metadata": {},
   "outputs": [
    {
     "data": {
      "image/png": "[encoded data removed]",
      "text/plain": [
       "<Figure size 504x360 with 1 Axes>"
      ]
     },
     "execution_count": 3,
     "metadata": {},
     "output_type": "execute_result"
    }
   ],
   "source": [
    "plot_histogram(counts[0])"
   ]
  },
  {
   "cell_type": "code",
   "execution_count": 4,
   "metadata": {},
   "outputs": [
    {
     "data": {
      "image/png": "[encoded data removed]",
      "text/plain": [
       "<Figure size 504x360 with 1 Axes>"
      ]
     },
     "execution_count": 4,
     "metadata": {},
     "output_type": "execute_result"
    }
   ],
   "source": [
    "plot_histogram(counts[1])"
   ]
  }
 ],
 "metadata": {
  "kernelspec": {
   "display_name": "venv_qiskit2",
   "language": "python",
   "name": "venv_qiskit2"
  },
  "language_info": {
   "codemirror_mode": {
    "name": "ipython",
    "version": 3
   },
   "file_extension": ".py",
   "mimetype": "text/x-python",
   "name": "python",
   "nbconvert_exporter": "python",
   "pygments_lexer": "ipython3",
   "version": "3.8.6"
  }
 },
 "nbformat": 4,
 "nbformat_minor": 4
}
