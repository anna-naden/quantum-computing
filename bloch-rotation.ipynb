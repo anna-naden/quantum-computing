{
 "cells": [
  {
   "cell_type": "markdown",
   "metadata": {},
   "source": [
    "$$\\newcommand{\\ket}[1]{\\left|{#1}\\right\\rangle}$$\n",
    "$$\\newcommand{\\bra}[1]{\\left\\langle{#1}\\right|}$$\n",
    "$$\\newcommand{\\braket}[2]{\\left\\langle{#1}\\middle|{#2}\\right\\rangle}$$"
   ]
  },
  {
   "cell_type": "markdown",
   "metadata": {},
   "source": [
    "# General Rotations in the Bloch Sphere\n",
    "\n",
    "### $R_{\\hat{n}}(\\theta)=e^{-i\\theta\\hat{n}\\cdot\\frac{\\cdot\\vec{\\sigma}}{2}}$\n",
    "\n",
    "where $\\vec{\\sigma}$ is the three-component vector of Pauli matrices, defined below, and \n",
    "$\\hat{n}$ is a unit vector along the axis of rotation (right-hand corkscrew rule).\n",
    "\n",
    "*The goal is to show that $R_{\\hat{n}}$ rotates the Bloch vector about the axis $\\hat{n}$ in the Bloch sphere. This means that if the rotation is applied to a state whose Bloch vector is along the $\\hat{n}$ direction, then the Bloch vector of the resulting state also points along the $\\hat{n}$ direction. This means that*\n",
    "\n",
    "$\\ket{\\Psi_{after}}=e^{i\\lambda}\\ket{\\Psi_{before}}$ where the phase shift $\\lambda$ doesn't affect the measurements.\n",
    "\n",
    "$\\lambda \\in [0,2\\pi)$"
   ]
  },
  {
   "cell_type": "markdown",
   "metadata": {},
   "source": [
    "## Pauli Gates\n",
    "\n",
    "$x=\\sigma_x=\\begin{bmatrix}0&1\\\\1&0\\end{bmatrix}$ (Not gate)\n",
    "\n",
    "$y=\\sigma_y=\\begin{bmatrix}0&-i\\\\i&0\\end{bmatrix}$\n",
    "\n",
    "$z=\\sigma_z=\\begin{bmatrix}1&0\\\\0&-1\\end{bmatrix}$ (180 degree phase shift)\n",
    "\n"
   ]
  },
  {
   "cell_type": "markdown",
   "metadata": {},
   "source": [
    "### How do you use a matrix as an exponent?"
   ]
  },
  {
   "cell_type": "markdown",
   "metadata": {},
   "source": [
    "## Infinite Series for Exponential\n",
    "\n",
    "### (Equation 1) $e^A=I+A+\\frac{A^2}{2}+\\frac{A^3}{3!}+...=\\sum_{j=0}^{\\infty}\\frac{A^j}{j!}$\n",
    "\n",
    "where I is the identity matrix"
   ]
  },
  {
   "cell_type": "markdown",
   "metadata": {},
   "source": [
    "### Properties of the Pauli matrices"
   ]
  },
  {
   "cell_type": "markdown",
   "metadata": {},
   "source": [
    "#### $\\sigma_j^2=1$\n",
    "\n",
    "#### $\\sigma_i \\sigma_j = - \\sigma_j \\sigma_i$ for $i\\ne j$\n",
    "\n",
    "#### $\\hat{n}\\cdot\\vec{\\sigma}=\\begin{bmatrix}cos{\\theta}&sin(\\theta)e^{-i\\phi}\\\\sin(\\theta)e^{i\\phi}&-cos(\\theta)\\end{bmatrix}$\n",
    "\n",
    "#### $(\\hat{n}\\cdot\\vec{\\sigma})^2=\\begin{bmatrix}\n",
    "cos^2(\\frac{\\theta}{2})+sin^2(\\frac{\\theta}{2})&0\\\\\n",
    "0&\n",
    "\\sin^2(\\frac{\\theta}{2})+cos^2(\\frac{\\theta}{2})\\end{bmatrix}=\\begin{bmatrix}1&0\\\\0&1\\end{bmatrix}$"
   ]
  },
  {
   "cell_type": "markdown",
   "metadata": {},
   "source": [
    "### Infinite Series for Sine and Cosine\n",
    "\n",
    "\n",
    "#### (Equation 2) $sin(x)=x-\\frac{x^3}{3!}+\\frac{x^5}{5!}-\\frac{x^7}{7!}+...=\\sum_{j=0}^{\\infty}\\frac{(-1)^j}{(2j+1)!}x^{2j+1}$\n",
    "\n",
    "#### (Equation 3) $cos(x)=\\frac{d}{dx}sin(x)=1-\\frac{x^2}{2!}+\\frac{x^4}{4!}-...=\\sum_{j=0}\n",
    "^\\infty\n",
    "\\frac{-1)^jx^j}{(2j)!}$\n"
   ]
  },
  {
   "cell_type": "markdown",
   "metadata": {},
   "source": [
    "### Substitute $\\hat{n}\\cdot\\vec{\\sigma}$ for A in equation 1\n",
    "\n",
    "### Substitute $\\frac{\\theta}{2}$ for x in equations 2 and 3, gives \n",
    "\n",
    "### Comparing the results gives\n",
    "\n",
    "### $R_{\\hat{n}}(\\theta)=cos(\\frac{\\theta}{2})I-isin(\\frac{\\theta}{2})(n_x\\sigma_x+n_y\\sigma_y+n_z\\sigma_z)$"
   ]
  },
  {
   "cell_type": "markdown",
   "metadata": {},
   "source": [
    "*We need a state whose Bloch vector points along the direction of $\\hat{n}$. That state is $\\ket{\\Psi(\\hat{n})}$\n",
    "$=\\begin{bmatrix}cos(\\frac{\\theta}{2})\\\\sin(\\frac{\\theta}{2})e^{i\\phi}\\end{bmatrix}$\n",
    "\n",
    "where $\\theta$ and $\\phi$ are the angles of spherical coordinates:"
   ]
  },
  {
   "cell_type": "markdown",
   "metadata": {},
   "source": [
    "<img src=\"spherical-coordinates.png\" style=\"width:200px;\"/>"
   ]
  },
  {
   "cell_type": "markdown",
   "metadata": {},
   "source": [
    "$\\ket{\\Psi_{after}}=e^{i\\lambda}\\ket{\\Psi}$"
   ]
  },
  {
   "cell_type": "markdown",
   "metadata": {},
   "source": [
    "The components of the bloch vector are determined by polar coordinates:\n",
    "\n",
    "$n_z=cos(\\theta)$\n",
    "\n",
    "$n_x=sin(\\theta)cos(\\phi)$\n",
    "\n",
    "$n_y=sin(\\theta)sin(\\phi)$\n",
    "\n",
    "$R_{\\hat{n}(\\theta)}=cos(\\frac{\\theta}{2})I-isin(\\frac{\\theta}{2})\\hat{n}\\cdot\\vec{\\sigma}=\n",
    "\\begin{bmatrix}cos(\\frac{\\theta}{2})-isin(\\frac{\\theta}{2})cos(\\theta)&-isin(\\theta)e^{-i\\phi}sin(\\frac{\\theta}{2})\\\\\n",
    "-i\\sin(\\theta)e^{i\\phi}sin(\\frac{\\theta}{2})&cos(\\frac{\\theta}{2})+isin(\\frac{\\theta}{2})cos(\\theta)\\end{bmatrix}$"
   ]
  },
  {
   "cell_type": "markdown",
   "metadata": {},
   "source": [
    "$[R-e^{i\\lambda}]\\ket{\\Psi}=0$\n",
    "\n",
    "$Det[R-e^{i\\lambda}]=0$\n",
    "\n",
    "$Det\n",
    "\\begin{bmatrix}cos(\\frac{\\theta}{2})-isin(\\frac{\\theta}{2})cos(\\theta)-e^{i\\lambda}&-isin(\\theta)e^{-i\\phi}sin(\\frac{\\theta}{2})\\\\\n",
    "-i\\sin(\\theta)e^{i\\phi}sin(\\frac{\\theta}{2})&cos(\\frac{\\theta}{2})+isin(\\frac{\\theta}{2})cos(\\theta)-e^{i\\lambda}\\end{bmatrix}=0$\n",
    "\n",
    "The solution, obtained from the computer algebra software Mathematica, is \n",
    "\n",
    "$\\ket{\\Psi}=\\begin{bmatrix}cos(\\frac{\\theta}{2}\\\\e^{i\\phi}sin(\\frac{\\theta}{2}\\end{bmatrix}$\n",
    "$=\\ket{\\Psi_{\\hat{n}}(\\theta)}$\n",
    "\n",
    "$\\lambda=-\\frac{\\theta}{2}$\n",
    "\n"
   ]
  },
  {
   "cell_type": "code",
   "execution_count": null,
   "metadata": {},
   "outputs": [],
   "source": []
  }
 ],
 "metadata": {
  "kernelspec": {
   "display_name": "venv_qiskit",
   "language": "python",
   "name": "venv_qiskit"
  },
  "language_info": {
   "codemirror_mode": {
    "name": "ipython",
    "version": 3
   },
   "file_extension": ".py",
   "mimetype": "text/x-python",
   "name": "python",
   "nbconvert_exporter": "python",
   "pygments_lexer": "ipython3",
   "version": "3.8.10"
  }
 },
 "nbformat": 4,
 "nbformat_minor": 4
}
