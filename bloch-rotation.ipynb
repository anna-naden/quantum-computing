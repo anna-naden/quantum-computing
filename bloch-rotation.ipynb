{
 "cells": [
  {
   "cell_type": "markdown",
   "metadata": {},
   "source": [
    "# The General Rotation Gate Rotates the State in the Bloch Sphere"
   ]
  },
  {
   "cell_type": "markdown",
   "metadata": {},
   "source": [
    "Nielson and Chuang, *Quantum Computing and Quantum Information*(http://mmrc.amss.cas.cn/tlb/201702/W020170224608149940643.pdf)\n",
    "Page 174, Exercise 4.6, Bloch Sphere Interpretation of Rotations\n",
    "\n",
    "If the gate for a rotation is $R_{\\hat{n}}(\\theta)=\n",
    "cos(\\frac{\\theta}{2})I-i\\text{ }sin(\\frac{\\theta}{2})(\\hat{n}\\cdot\\vec{\\sigma})$, where I is the identity matrix,\n",
    "show that it rotates the Bloch vector  about the axis $\\hat{n}$ by an angle $\\theta$ in the Bloch sphere."
   ]
  },
  {
   "cell_type": "markdown",
   "metadata": {},
   "source": [
    "$$\\newcommand{\\ket}[1]{\\left|{#1}\\right\\rangle}$$\n",
    "$$\\newcommand{\\bra}[1]{\\left\\langle{#1}\\right|}$$\n",
    "$$\\newcommand{\\braket}[2]{\\left\\langle{#1}\\middle|{#2}\\right\\rangle}$$"
   ]
  },
  {
   "cell_type": "markdown",
   "metadata": {},
   "source": [
    "$\\hat{n}$ is a unit vector: $n_x^2+n_y^2+n_3^3$=1.\n",
    "\n",
    "$(1-n_z)(1+n_z)=n_x^2+n_y^2$\n",
    "\n",
    "$(1-n_z)\\sqrt{1+n_z}=\\frac{n_x^2+n_y^2}{\\sqrt{1+n_z}}$\n",
    "\n",
    "Equation (1): $(1-n_z)\\sqrt{1+n_z}-\\frac{n_x-in_y}{\\sqrt{1+n_z}}(n_x+in_y)=0$"
   ]
  },
  {
   "cell_type": "markdown",
   "metadata": {},
   "source": [
    "The bloch vector is along the $\\hat{n}$ axis is $\\ket{\\Psi(\\hat{n})}=\\begin{bmatrix}cos(\\frac{\\theta}{2})\\\\sin(\\frac{\\theta}{2})e^{i\\phi}\\end{bmatrix}$\n",
    "\n",
    "where the angles are determined by polar coordinates:\n",
    "\n",
    "$n_z=cos(\\theta)$\n",
    "\n",
    "$n_x=sin(\\theta)cos(\\phi)$\n",
    "\n",
    "$n_y=sin(\\theta)sin(\\phi)$\n",
    "\n",
    "Using the trigonmetric identities\n",
    "\n",
    "$cos(\\frac{\\theta}{2})=\\sqrt{\\frac{1+cos(\\theta)}{2}}$\n",
    "\n",
    "and $sin(\\frac{\\theta}{2})=\\sqrt{\\frac{1-cos(\\theta)}{2}}$\n",
    "\n",
    "gives\n",
    "\n",
    "Equation 2: $\\ket{\\Psi(\\hat{n}})$\n",
    "$=\\begin{bmatrix}\n",
    "\\sqrt{\\frac{1+n_z}{2}}\\\\\n",
    "    \\frac{n_x+in_y}{\\sqrt{1+n_z}}\\end{bmatrix}$\n",
    "\n",
    "\n",
    "Rotating about the axis $\\hat{n}$ shouldn't change the state, except for an irrelevant phase factor. By trial and error, it was determined that the phase factor is $cos(\\frac{\\theta}{2})-isin(\\frac{\\theta}{2})$\n",
    "\n",
    "So what we need to show is that $R\\ket{\\Psi}=(cos(\\frac{\\theta}{2})-isin(\\frac{\\theta}{2}))\\ket{\\Psi}$\n",
    "\n",
    "or Equation 1.1: $[R-(cos(\\frac{\\theta}{2}-isin(\\frac{\\theta}{2})I]\\ket{\\Psi}=\\ket{\\Psi}$\n",
    "\n",
    "Substituting equations 1.1 for R and 2 for $\\Psi(\\hat{n})$ gives\n",
    "\n",
    "$(1-n_z)\\sqrt{1+n_z}-\\frac{n_x-in_y}{\\sqrt{1+n_z}}(n_x+in_y)=0$\n",
    "\n",
    "which reduces to equation 1 and we are done\n"
   ]
  },
  {
   "cell_type": "code",
   "execution_count": null,
   "metadata": {},
   "outputs": [],
   "source": []
  }
 ],
 "metadata": {
  "kernelspec": {
   "display_name": "venv_qiskit",
   "language": "python",
   "name": "venv_qiskit"
  },
  "language_info": {
   "codemirror_mode": {
    "name": "ipython",
    "version": 3
   },
   "file_extension": ".py",
   "mimetype": "text/x-python",
   "name": "python",
   "nbconvert_exporter": "python",
   "pygments_lexer": "ipython3",
   "version": "3.8.10"
  }
 },
 "nbformat": 4,
 "nbformat_minor": 4
}
