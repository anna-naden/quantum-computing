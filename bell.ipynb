{
 "cells": [
  {
   "cell_type": "code",
   "execution_count": 1,
   "metadata": {},
   "outputs": [],
   "source": [
    "import qiskit\n",
    "from qiskit import QuantumCircuit, transpile, execute\n",
    "from qiskit.extensions import UnitaryGate\n",
    "from qiskit.providers.aer import QasmSimulator\n",
    "from qiskit.tools.visualization import plot_bloch_multivector, plot_histogram\n",
    "import numpy as np\n",
    "import matplotlib.pyplot as plt\n",
    "import warnings\n",
    "import math\n",
    "warnings.filterwarnings('ignore')"
   ]
  },
  {
   "cell_type": "code",
   "execution_count": 2,
   "metadata": {},
   "outputs": [],
   "source": [
    "from qiskit.tools.visualization import plot_bloch_multivector, plot_histogram"
   ]
  },
  {
   "cell_type": "markdown",
   "metadata": {},
   "source": [
    "$$\\newcommand{\\ket}[1]{\\left|{#1}\\right\\rangle}$$\n",
    "$$\\newcommand{\\bra}[1]{\\left\\langle{#1}\\right|}$$\n",
    "$$\\newcommand{\\braket}[2]{\\left\\langle{#1}\\middle|{#2}\\right\\rangle}$$"
   ]
  },
  {
   "cell_type": "markdown",
   "metadata": {},
   "source": [
    "$\\ket{\\Psi}=\\ket{uu,du,ud,dd}$"
   ]
  },
  {
   "cell_type": "code",
   "execution_count": 3,
   "metadata": {},
   "outputs": [],
   "source": [
    "# Display measurement results\n",
    "def show_barchart(counts):\n",
    "    y_pos=np.arange(2)\n",
    "    objects=['a','b']\n",
    "    plt.xticks(y_pos, objects)\n",
    "    plt.bar(y_pos, counts)\n",
    "def show_statevector(statevector):\n",
    "    print(f'statevector uu:{np.around(statevector[0],3)} du: {np.around(statevector[1],3)} \\\n",
    "    ud: {np.around(statevector[2], 3)} dd: {np.around(statevector[3],3)}')\n",
    "def get_probabilities(statevector):\n",
    "    n_uu = np.abs(statevector[0])**2\n",
    "    n_du = np.abs(statevector[1])**2\n",
    "    n_ud = np.abs(statevector[2])**2\n",
    "    n_dd = np.abs(statevector[3])**2\n",
    "    return n_uu, n_du, n_ud, n_dd\n"
   ]
  },
  {
   "cell_type": "markdown",
   "metadata": {},
   "source": [
    "## Verify that the matrix for the gate is unitary"
   ]
  },
  {
   "cell_type": "code",
   "execution_count": 4,
   "metadata": {},
   "outputs": [],
   "source": [
    "def unitary(U):\n",
    "    assert(np.around(np.matmul(np.conj(np.transpose(U)),U),5)==np.eye(2)).all()"
   ]
  },
  {
   "cell_type": "markdown",
   "metadata": {},
   "source": [
    "## Gate for non-vertical measurement basis"
   ]
  },
  {
   "cell_type": "code",
   "execution_count": 5,
   "metadata": {},
   "outputs": [],
   "source": [
    "def measurement_gate(theta, show=False):\n",
    "    U=np.array([[math.cos(theta/2),complex(0,1)*math.sin(theta/2)],\\\n",
    "                [complex(0,1)*math.sin(theta/2),math.cos(theta/2)]])\n",
    "    U=np.transpose(U)\n",
    "    if show:\n",
    "        print('unitary matrix for projection')\n",
    "        print(U[0,0],U[0,1])\n",
    "        print(U[1,0],U[1,1])\n",
    "    unitary(U)\n",
    "    return U\n",
    "    "
   ]
  },
  {
   "cell_type": "markdown",
   "metadata": {},
   "source": [
    "## Project state vector onto new measurement basis"
   ]
  },
  {
   "cell_type": "code",
   "execution_count": 6,
   "metadata": {},
   "outputs": [],
   "source": [
    "def project(bit,circuit, theta):\n",
    "    U = measurement_gate(theta)\n",
    "    circuit.unitary(U,[bit])\n",
    "    return circuit"
   ]
  },
  {
   "cell_type": "markdown",
   "metadata": {},
   "source": [
    "## Measure with magnetic field not vertical"
   ]
  },
  {
   "cell_type": "code",
   "execution_count": 7,
   "metadata": {},
   "outputs": [],
   "source": [
    "def measure(bit, circuit, angle):\n",
    "    circuit = project(bit, circuit, angle)\n",
    "    circuit.measure(bit,bit)\n",
    "    return circuit"
   ]
  },
  {
   "cell_type": "markdown",
   "metadata": {},
   "source": [
    "## Make entangled state\n",
    "$\\ket{ud}-\\ket{du}$"
   ]
  },
  {
   "cell_type": "code",
   "execution_count": 8,
   "metadata": {},
   "outputs": [],
   "source": [
    "def make_entangled(show=False):\n",
    "    circuit=qiskit.QuantumCircuit(2,2)\n",
    "    circuit.h(0)\n",
    "    circuit.cx(0,1)\n",
    "    circuit.x(1)\n",
    "    circuit.p(math.pi,1)\n",
    "    return circuit"
   ]
  },
  {
   "cell_type": "markdown",
   "metadata": {},
   "source": [
    "## Show entangled states"
   ]
  },
  {
   "cell_type": "code",
   "execution_count": 9,
   "metadata": {},
   "outputs": [],
   "source": [
    "show=False\n",
    "if show:\n",
    "    shots=10\n",
    "    n_uu=n_ud=n_du=n_dd=0\n",
    "    for i in range(shots):\n",
    "        circuit=make_entangled()\n",
    "        circuit.measure(0,0)\n",
    "        circuit.measure(1,1)\n",
    "        simulator = qiskit.Aer.get_backend('statevector_simulator')\n",
    "        result=qiskit.execute(circuit, backend=simulator).result()\n",
    "        statevector = result.get_statevector()\n",
    "        show_statevector(statevector)\n"
   ]
  },
  {
   "cell_type": "markdown",
   "metadata": {},
   "source": [
    "$\\ket{\\Psi}=\\ket{ud}-\\ket{du}$\n",
    "\n",
    "$\\ket{\\Psi}=(\\frac{1}{\\sqrt{2}})(0,-1,1,0)$"
   ]
  },
  {
   "cell_type": "markdown",
   "metadata": {},
   "source": [
    "## Verification that the qubit states are equally probable no matter what \"angle of magnetic field\" is used"
   ]
  },
  {
   "cell_type": "code",
   "execution_count": 10,
   "metadata": {},
   "outputs": [
    {
     "data": {
      "image/png": "[encoded data removed]",
      "text/plain": [
       "<Figure size 504x360 with 1 Axes>"
      ]
     },
     "execution_count": 10,
     "metadata": {},
     "output_type": "execute_result"
    }
   ],
   "source": [
    "circuit=make_entangled()\n",
    "theta=math.radians(30)\n",
    "circuit = measure(0,circuit, theta)\n",
    "simulator = QasmSimulator()\n",
    "compiled_circuit = transpile(circuit, simulator)\n",
    "job = simulator.run(compiled_circuit, shots=100000)\n",
    "result = job.result()\n",
    "counts = result.get_counts(circuit)\n",
    "plot_histogram(counts)"
   ]
  },
  {
   "cell_type": "code",
   "execution_count": 11,
   "metadata": {},
   "outputs": [],
   "source": [
    "theta=math.radians(45)\n",
    "circuit = measure(0,circuit, theta)\n",
    "circuit.measure(0,0)\n",
    "simulator = QasmSimulator()\n",
    "compiled_circuit = transpile(circuit, simulator)\n",
    "job = simulator.run(compiled_circuit, shots=100000)\n",
    "result = job.result()\n",
    "counts = result.get_counts(circuit)\n"
   ]
  },
  {
   "cell_type": "code",
   "execution_count": 12,
   "metadata": {},
   "outputs": [
    {
     "data": {
      "image/png": "[encoded data removed]",
      "text/plain": [
       "<Figure size 504x360 with 1 Axes>"
      ]
     },
     "execution_count": 12,
     "metadata": {},
     "output_type": "execute_result"
    }
   ],
   "source": [
    "\n",
    "plot_histogram(counts)\n"
   ]
  },
  {
   "cell_type": "markdown",
   "metadata": {},
   "source": [
    "## Verify Bell's Inequality"
   ]
  },
  {
   "cell_type": "code",
   "execution_count": 13,
   "metadata": {},
   "outputs": [],
   "source": [
    "theta = math.radians(45)\n",
    "shots=1000000\n",
    "circuit=make_entangled()\n",
    "simulator = QasmSimulator()\n",
    "circuit.measure(0,0)\n",
    "circuit=measure(1,circuit,theta)\n",
    "compiled_circuit = transpile(circuit, simulator)\n",
    "job = simulator.run(compiled_circuit, shots=shots)\n",
    "result=job.result()\n",
    "counts = result.get_counts(circuit)\n",
    "p_up_up45 = counts['00']/shots"
   ]
  },
  {
   "cell_type": "code",
   "execution_count": 14,
   "metadata": {},
   "outputs": [
    {
     "data": {
      "image/png": "[encoded data removed]",
      "text/plain": [
       "<Figure size 504x360 with 1 Axes>"
      ]
     },
     "execution_count": 14,
     "metadata": {},
     "output_type": "execute_result"
    }
   ],
   "source": [
    "plot_histogram(counts)"
   ]
  },
  {
   "cell_type": "code",
   "execution_count": 15,
   "metadata": {},
   "outputs": [
    {
     "name": "stdout",
     "output_type": "stream",
     "text": [
      "0.073 0.25\n"
     ]
    }
   ],
   "source": [
    "theta = math.radians(90)\n",
    "shots=1000000\n",
    "circuit=make_entangled()\n",
    "simulator = QasmSimulator()\n",
    "circuit.measure(0,0)\n",
    "circuit=measure(1,circuit,theta)\n",
    "compiled_circuit = transpile(circuit, simulator)\n",
    "job = simulator.run(compiled_circuit, shots=shots)\n",
    "result=job.result()\n",
    "counts = result.get_counts(circuit)\n",
    "p_up_up90 = counts['00']/shots\n",
    "print(np.round(p_up_up45,3), np.round(p_up_up90,3))"
   ]
  },
  {
   "cell_type": "code",
   "execution_count": 16,
   "metadata": {},
   "outputs": [
    {
     "ename": "AssertionError",
     "evalue": "",
     "output_type": "error",
     "traceback": [
      "\u001b[0;31m---------------------------------------------------------------------------\u001b[0m",
      "\u001b[0;31mAssertionError\u001b[0m                            Traceback (most recent call last)",
      "\u001b[0;32m<ipython-input-16-56adcc6725ed>\u001b[0m in \u001b[0;36m<module>\u001b[0;34m\u001b[0m\n\u001b[0;32m----> 1\u001b[0;31m \u001b[0;32massert\u001b[0m\u001b[0;34m(\u001b[0m\u001b[0;36m2\u001b[0m\u001b[0;34m*\u001b[0m\u001b[0mp_up_up45\u001b[0m\u001b[0;34m>=\u001b[0m \u001b[0mp_up_up90\u001b[0m\u001b[0;34m)\u001b[0m\u001b[0;34m\u001b[0m\u001b[0;34m\u001b[0m\u001b[0m\n\u001b[0m",
      "\u001b[0;31mAssertionError\u001b[0m: "
     ]
    }
   ],
   "source": [
    "assert(2*p_up_up45>= p_up_up90)"
   ]
  },
  {
   "cell_type": "code",
   "execution_count": null,
   "metadata": {},
   "outputs": [],
   "source": []
  }
 ],
 "metadata": {
  "kernelspec": {
   "display_name": "venv_qiskit",
   "language": "python",
   "name": "venv_qiskit"
  },
  "language_info": {
   "codemirror_mode": {
    "name": "ipython",
    "version": 3
   },
   "file_extension": ".py",
   "mimetype": "text/x-python",
   "name": "python",
   "nbconvert_exporter": "python",
   "pygments_lexer": "ipython3",
   "version": "3.8.6"
  }
 },
 "nbformat": 4,
 "nbformat_minor": 4
}
