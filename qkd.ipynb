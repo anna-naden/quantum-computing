{
 "cells": [
  {
   "cell_type": "markdown",
   "metadata": {},
   "source": [
    "https://www.youtube.com/watch?v=lVXJgn3fDkg"
   ]
  },
  {
   "cell_type": "code",
   "execution_count": 1,
   "metadata": {},
   "outputs": [],
   "source": [
    "import qiskit\n",
    "from qiskit import QuantumCircuit, transpile, execute\n",
    "from qiskit.extensions import UnitaryGate\n",
    "from qiskit.providers.aer import QasmSimulator\n",
    "from qiskit.tools.visualization import plot_bloch_multivector, plot_histogram\n",
    "from qiskit import IBMQ\n",
    "from qiskit.tools.monitor import job_monitor\n",
    "\n",
    "import numpy as np\n",
    "import matplotlib.pyplot as plt\n",
    "import warnings\n",
    "import math\n",
    "warnings.filterwarnings('ignore')"
   ]
  },
  {
   "cell_type": "code",
   "execution_count": 2,
   "metadata": {},
   "outputs": [],
   "source": [
    "from qiskit.tools.visualization import plot_bloch_multivector, plot_histogram"
   ]
  },
  {
   "cell_type": "markdown",
   "metadata": {},
   "source": [
    "$$\\newcommand{\\ket}[1]{\\left|{#1}\\right\\rangle}$$\n",
    "$$\\newcommand{\\bra}[1]{\\left\\langle{#1}\\right|}$$\n",
    "$$\\newcommand{\\braket}[2]{\\left\\langle{#1}\\middle|{#2}\\right\\rangle}$$"
   ]
  },
  {
   "cell_type": "code",
   "execution_count": 3,
   "metadata": {},
   "outputs": [],
   "source": [
    "# Display measurement results\n",
    "def show_barchart(counts):\n",
    "    y_pos=np.arange(2)\n",
    "    objects=['a','b']\n",
    "    plt.xticks(y_pos, objects)\n",
    "    plt.bar(y_pos, counts)\n",
    "def show_statevector(statevector):\n",
    "    print(f'statevector {np.around(statevector[0],3)} {np.around(statevector[1],3)}')\n",
    "def get_probabilities(statevector):\n",
    "    n_uu = np.abs(statevector[0])**2\n",
    "    n_du = np.abs(statevector[1])**2\n",
    "    n_ud = np.abs(statevector[2])**2\n",
    "    n_dd = np.abs(statevector[3])**2\n",
    "    return n_uu, n_du, n_ud, n_dd\n"
   ]
  },
  {
   "cell_type": "markdown",
   "metadata": {},
   "source": [
    "## Verify that the matrix for the gate is unitary"
   ]
  },
  {
   "cell_type": "code",
   "execution_count": 4,
   "metadata": {},
   "outputs": [],
   "source": [
    "def unitary(U):\n",
    "    assert(np.around(np.matmul(np.conj(np.transpose(U)),U),5)==np.eye(2)).all()"
   ]
  },
  {
   "cell_type": "markdown",
   "metadata": {},
   "source": [
    "## Gate for non-vertical measurement basis\n",
    "\n",
    "The rows of the unitary matrix for the measurement are the complex conjugates of the states of the measurement basis, which is in the yz plane"
   ]
  },
  {
   "cell_type": "code",
   "execution_count": 5,
   "metadata": {},
   "outputs": [],
   "source": [
    "def measurement_gate(theta, show):\n",
    "    U=np.array([[math.cos(theta/2),math.sin(theta/2)],\\\n",
    "                [math.sin(theta/2),-math.cos(theta/2)]])\n",
    "    if show:\n",
    "        print('unitary matrix for projection')\n",
    "        print(U[0,0],U[0,1])\n",
    "        print(U[1,0],U[1,1])\n",
    "    unitary(U)\n",
    "    return U\n",
    "    "
   ]
  },
  {
   "cell_type": "markdown",
   "metadata": {},
   "source": [
    "## Project state vector onto new measurement basis"
   ]
  },
  {
   "cell_type": "code",
   "execution_count": 6,
   "metadata": {},
   "outputs": [],
   "source": [
    "def project(bit,circuit, theta, show):\n",
    "    U = measurement_gate(theta, show)\n",
    "    circuit.unitary(U,[bit])\n",
    "    return circuit"
   ]
  },
  {
   "cell_type": "markdown",
   "metadata": {},
   "source": [
    "## Measure with polarization not vertical"
   ]
  },
  {
   "cell_type": "code",
   "execution_count": 7,
   "metadata": {},
   "outputs": [],
   "source": [
    "def measure(bit, circuit, angle, show=False):\n",
    "    circuit = project(bit, circuit, angle, show)\n",
    "    circuit.measure(bit,bit)\n",
    "    return circuit"
   ]
  },
  {
   "cell_type": "code",
   "execution_count": 8,
   "metadata": {},
   "outputs": [],
   "source": [
    "def get_encoding(keybit, basis):\n",
    "    return 2*keybit+basis"
   ]
  },
  {
   "cell_type": "code",
   "execution_count": 9,
   "metadata": {},
   "outputs": [],
   "source": [
    "def prepare_state(keybit, basis):\n",
    "    circuit = qiskit.QuantumCircuit(1,1)\n",
    "    encoding = get_encoding(keybit, basis)\n",
    "    if encoding == 0:\n",
    "#             zero degrees\n",
    "        pass\n",
    "    elif encoding == 1:\n",
    "#             90 degrees\n",
    "        circuit.h(0)\n",
    "    elif encoding == 2:\n",
    "#             180 degrees\n",
    "        circuit.x(0)\n",
    "    else:\n",
    "#             270 degrees\n",
    "        circuit.x(0)\n",
    "        circuit.h(0)\n",
    "    return circuit"
   ]
  },
  {
   "cell_type": "code",
   "execution_count": 10,
   "metadata": {},
   "outputs": [],
   "source": [
    "show_vector = False\n",
    "simulate = True\n",
    "if show_vector:\n",
    "    backend = qiskit.Aer.get_backend('statevector_simulator')\n",
    "else:\n",
    "    backend = QasmSimulator()\n",
    "circuit=qiskit.QuantumCircuit(2,2)\n",
    "thetas=math.radians(0), math.radians(90), math.radians(180), math.radians(270)"
   ]
  },
  {
   "cell_type": "markdown",
   "metadata": {},
   "source": [
    "## Alice draws a random sequence of key bits\n",
    "\n",
    "## Alice draws a random sequence of measurement basis vectors\n",
    "\n",
    "## Bob draws a random sequence of measurement basis vactors"
   ]
  },
  {
   "cell_type": "code",
   "execution_count": 11,
   "metadata": {},
   "outputs": [],
   "source": [
    "keysize=80\n",
    "np.random.seed(0)\n",
    "alice_key=np.random.randint(2,size=keysize)\n",
    "bob_key = np.ndarray(keysize, dtype=int)\n",
    "alice_bases = np.random.randint(2, size=keysize)\n",
    "bob_bases = np.random.randint(2, size=keysize)"
   ]
  },
  {
   "cell_type": "markdown",
   "metadata": {},
   "source": [
    "## Alice encodes her choices of key bits and measurement basis vectors into qubits\n",
    "\n",
    "## Alice transmits her qubits to Bob\n",
    "\n",
    "## Bob measures Alice's qubits in his chosen measurement bases\n",
    "\n",
    "## Alice and Bob each publish their chosen measurement bases"
   ]
  },
  {
   "cell_type": "code",
   "execution_count": 12,
   "metadata": {},
   "outputs": [],
   "source": [
    "for i, keybit in enumerate(alice_key):\n",
    "    alice_basis = alice_bases[i]\n",
    "    bob_basis = bob_bases[i]\n",
    "\n",
    "#     Alice prepares a qubit\n",
    "    circuit = prepare_state(keybit, alice_basis)\n",
    "    result = qiskit.execute(circuit, backend=backend).result()\n",
    "    \n",
    "    if show_vector:\n",
    "        print()\n",
    "        statevector = result.get_statevector()\n",
    "        show_statevector(statevector)\n",
    "    else:\n",
    "        \n",
    "#         Bob measures Alice's qubit in his chosen measurement basis\n",
    "        if bob_basis == 0:\n",
    "            circuit = measure(0, circuit, 0)\n",
    "        else:\n",
    "            circuit = measure(0, circuit, math.radians(90))\n",
    "        compiled_circuit = transpile(circuit)\n",
    "        job = backend.run(compiled_circuit, shots=1)\n",
    "        result = job.result()\n",
    "        counts = result.get_counts(circuit)\n",
    "        dict_keys = list(counts.keys())\n",
    "        if dict_keys[0]=='0':\n",
    "            bob_keybit = 0\n",
    "        else:\n",
    "            bob_keybit = 1\n",
    "        bob_key[i]=bob_keybit"
   ]
  },
  {
   "cell_type": "markdown",
   "metadata": {},
   "source": [
    "## Where Alice and Bob chose the same measurement basis, Alice's key bit matches Bob's key bit"
   ]
  },
  {
   "cell_type": "code",
   "execution_count": 13,
   "metadata": {},
   "outputs": [],
   "source": [
    "for i in range(keysize):\n",
    "    alice_basis = alice_bases[i]\n",
    "    bob_basis = bob_bases[i]\n",
    "    if alice_basis == bob_basis:\n",
    "        assert(alice_key[i]==bob_key[i])\n",
    "        "
   ]
  }
 ],
 "metadata": {
  "kernelspec": {
   "display_name": "venv_qiskit",
   "language": "python",
   "name": "venv_qiskit"
  },
  "language_info": {
   "codemirror_mode": {
    "name": "ipython",
    "version": 3
   },
   "file_extension": ".py",
   "mimetype": "text/x-python",
   "name": "python",
   "nbconvert_exporter": "python",
   "pygments_lexer": "ipython3",
   "version": "3.8.6"
  }
 },
 "nbformat": 4,
 "nbformat_minor": 4
}
