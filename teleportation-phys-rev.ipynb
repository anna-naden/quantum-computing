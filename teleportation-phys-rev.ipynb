{
 "cells": [
  {
   "cell_type": "markdown",
   "metadata": {},
   "source": [
    "$$\\newcommand{\\ket}[1]{\\left|{#1}\\right\\rangle}$$\n",
    "$$\\newcommand{\\bra}[1]{\\left\\langle{#1}\\right|}$$\n",
    "$$\\newcommand{\\braket}[2]{\\left\\langle{#1}\\middle|{#2}\\right\\rangle}$$"
   ]
  },
  {
   "cell_type": "markdown",
   "metadata": {},
   "source": [
    "# Teleporting an Unknown Quantum State via Dual Einstein-Podolsky-Rosen Channels\n",
    "\n",
    "*Physical Review Letters, 70:13, 1895. 29 March 1993*\n",
    "\n",
    "https://researcher.watson.ibm.com/researcher/files/us-bennetc/BBCJPW.pdf.\n",
    "\n",
    "*Nielsen and Chuang, section 1.3.7, page 26*\n",
    "\n",
    "Alice and Bob met long ago but now live far apart. While together they generated an EPR pair of entangled particles (particles two and three), each taking one qubit of the pair when they separated. Many years later, Bob is in hiding, and Alice’s mission is to precisely deliver a qubit (the state of particle one) $\\ket{\\Psi}$ to Bob. She does not know the state of the qubit, and moreover can only send classical information to Bob.\n",
    "\n",
    "This looks impossible; she doesn't know the state of particle one and because of quantum mechanics, she cannot determine it (measurement can only give her a single classical bit - one or zero). Besides that, even if she knew the values of amplitudes of the qubit, she would need an infinite number of classical bits to precisely communicate them.\n",
    "\n",
    "Here is how they do it:\n",
    "<ol>\n",
    "    <li> Alice entangles particles two and three. Partice one, the qubit, is in an unknown state</li>\n",
    "    <li> Bob takes particle three to a distant galaxy</li>\n",
    "    <li> Alice measures the state of the qubit (particle one) and her particle (particle two), getting two classical bits of information</li>\n",
    "    <li> Alice send the classical bits to Bob</li>\n",
    "    <li> Bob uses the classical bits to select one of four physical operations</li>\n",
    "    <li> Bob performs the operation on his particle (particle three). These operations are simulated here using quantum computing gates</li>\n",
    "</ol>\n",
    "\n",
    "The result is that his particle is now in the exact state that particle one was in before Alice measured it.\n",
    "\n",
    "There are thre points to note:\n",
    "<ul>\n",
    "    <li> After Alice and Bob separated, Alice does not need to send anything to Bob except for the two classical bits</li>\n",
    "    <li> Bob cannot reconstruct the teleported state instantaneously because he has to wait for the classical bits to arrive</li>\n",
    "    <li> The speed of transmission is limited by the speed of light. There is no \"telepathy.\"\n",
    "</ul>\n",
    "\n",
    "<img src=\"bobs-operations.jpg\" style=\"width:8in;\"/>\n",
    "\n",
    "Because Alice is using a measurement basis consisting of the Bell operator state, there is a one-to-one corresondence between those states and her measurement results.\n",
    "\n",
    "Bob chooses his physical operation according to the results of Alice's measurement according to the following table:\n",
    "\n",
    "| Alice's measurement | Bob's physical operation/quantum gate |\n",
    "| ------------- | ---------- |\n",
    "| $\\Psi^+\\rightarrow \\ket{00}$ | none |\n",
    "| $\\Psi^-\\rightarrow \\ket{10}$ | Z |\n",
    "| $\\Phi^+\\rightarrow \\ket{01}$ | X |\n",
    "| $\\Phi^-\\rightarrow \\ket{11}$ | X |\n"
   ]
  },
  {
   "cell_type": "markdown",
   "metadata": {},
   "source": [
    "## Notes on Measurement\n",
    "\n",
    "<ul>\n",
    "    <li> Measuring a qubit yields a classical bit</li>\n",
    "    <li> Before a measurement is done, a measurement basis has to be chosen</li>\n",
    "    <li> Choosing a measurement basis is like choosing orientation of a polarizing filter for light, or orienting a magnetic field for electrons</li>\n",
    "    <li> In a quantum computer, measurement basis is chosen by applying a quantum gate called a \"unitary gate.\"</li>\n",
    "    <li> To apply a unitary gate, you create a unitary matrix and pass it to the IBM software (the API). In a real quantum computer system, the associated electronics would prepare an appropriate microwave pulse and send it in.\n",
    "    </li> After applying the gate, a standard measurement is performed, getting one or zero, but the outcome is determined by the probability of the measured state being in one of the basis state.\n",
    "    <li> Measurement basis states do not have to be limited to single-qubit states. In this experiment, we are working with entanglements of two qubits (Alice's particles)\n",
    "</ul>\n",
    "    "
   ]
  },
  {
   "cell_type": "code",
   "execution_count": 1,
   "metadata": {},
   "outputs": [],
   "source": [
    "import qiskit\n",
    "from qiskit import QuantumCircuit, transpile, execute\n",
    "from qiskit.extensions import UnitaryGate\n",
    "from qiskit.providers.aer import QasmSimulator\n",
    "from qiskit.tools.visualization import plot_bloch_multivector, plot_histogram\n",
    "from qiskit import IBMQ\n",
    "from qiskit.tools.monitor import job_monitor\n",
    "\n",
    "import numpy as np\n",
    "import matplotlib.pyplot as plt\n",
    "import warnings\n",
    "import math\n",
    "warnings.filterwarnings('ignore')"
   ]
  },
  {
   "cell_type": "code",
   "execution_count": 2,
   "metadata": {},
   "outputs": [],
   "source": [
    "#Utilities for displaying states from the state vector simulator\n",
    "# Two particles\n",
    "def show_statevector(statevector):\n",
    "    print(f'statevector\\nuu, du, ud, dd:\\n{np.around(statevector[0],3)} {np.around(statevector[1],3)} \\\n",
    "     {np.around(statevector[2], 3)} {np.around(statevector[3],3)}')\n",
    "def show_statevector3(statevector, title=''):\n",
    "    #Three particles\n",
    "    print(f'title\\\n",
    "    uuu:{np.around(statevector[0],3)} duu:{np.around(statevector[1],3)}\\\n",
    "     udu:{np.around(statevector[2], 3)} ddu:{np.around(statevector[3],3)}\\\n",
    "     uud:{np.around(statevector[4], 3)} dud:{np.around(statevector[5],3)}\\\n",
    "     udd:{np.around(statevector[6], 3)} ddd{np.around(statevector[7], 3)}')\n",
    "statevector_simulator = qiskit.Aer.get_backend('statevector_simulator')\n"
   ]
  },
  {
   "cell_type": "markdown",
   "metadata": {},
   "source": [
    "### Interpretation of displayed state vectors\n",
    "\n",
    "Single-qubit states\n",
    "\n",
    "$(1,0)\\rightarrow\\ket{u}\\rightarrow\\ket{0}$\n",
    "\n",
    "$(0,1)\\rightarrow\\ket{d}\\rightarrow\\ket{1}$\n",
    "\n",
    "Two-qubit states - note that this convention is different from that used by Neilsen and Chuang\n",
    "\n",
    "$(1,0,0,0)\\rightarrow \\ket{uu}\\rightarrow\\ket{00}$\n",
    "\n",
    "$(0,1,0,0)\\rightarrow \\ket{du}\\rightarrow\\ket{10}$\n",
    "\n",
    "$(0,0,1,0)\\rightarrow \\ket{ud}\\rightarrow\\ket{01}$\n",
    "\n",
    "$(0,0,0,0)\\rightarrow \\ket{dd}\\rightarrow\\ket{11}$\n"
   ]
  },
  {
   "cell_type": "markdown",
   "metadata": {},
   "source": [
    "## Alice's Measurement basis\n",
    "\n",
    "### Bell operator states (EPR states) - Nielsen and Chuang, section 1.3.6 page 25\n",
    "\n",
    "$\\Psi^+=\\sqrt{\\frac{1}{2}}(\\ket{ud}+\\ket{du}=(1,0,0,0))$\n",
    "\n",
    "$\\Psi^-=\\sqrt{\\frac{1}{2}}(\\ket{ud}-\\ket{du}=(0,1,0,0))$\n",
    "\n",
    "$\\ket{\\Phi^+}=\\sqrt{\\frac{1}{2}}(\\ket{uu}+\\ket{dd}=(0,0,1,0)$\n",
    "\n",
    "$\\ket{\\Phi^-}=\\sqrt{\\frac{1}{2}}(\\ket{uu}-\\ket{dd}=(0,0,0,1)$\n",
    "\n",
    "$U=\\begin{bmatrix}\\ket{\\Psi^+}\\\\\\\\\\ket{\\Psi^-}\\\\\\\\\\ket{\\Phi^+}\\\\\\\\\\ket{\\Phi^-}\\end{bmatrix}$\n"
   ]
  },
  {
   "cell_type": "code",
   "execution_count": 3,
   "metadata": {},
   "outputs": [],
   "source": [
    "def measurement_gate(show=False):\n",
    "    u=np.array([[0,1,1,0],\\\n",
    "                 [0,-1,1,0],\\\n",
    "                 [1,0,0,1],\\\n",
    "                  [1,0,0,-1]])/np.sqrt(2)\n",
    "\n",
    "    if show:\n",
    "        print('unitary matrix for projection')\n",
    "        print(u[0,0],u[0,1], u[0,2], u[0,3])\n",
    "        print(u[1,0],u[1,1], u[1,2], u[1,3])\n",
    "        print(u[2,0], u[2,1], u[2,2], u[2,3])\n",
    "        print(u[3,0], u[3,1], u[3,2], u[3,3])\n",
    "\n",
    "    return u    "
   ]
  },
  {
   "cell_type": "markdown",
   "metadata": {},
   "source": [
    "## Verification that Alice's Measurements are Working Correctly\n",
    "\n",
    "### $\\ket{\\Psi^-}$"
   ]
  },
  {
   "cell_type": "code",
   "execution_count": 4,
   "metadata": {},
   "outputs": [
    {
     "name": "stdout",
     "output_type": "stream",
     "text": [
      "statevector\n",
      "uu, du, ud, dd:\n",
      "(-0+0j) (1-0j)      0j 0j\n"
     ]
    }
   ],
   "source": [
    "circuit=qiskit.QuantumCircuit(2,2)\n",
    "simulator = qiskit.Aer.get_backend('statevector_simulator')\n",
    "\n",
    "# Prepare psi-\n",
    "circuit.h(0)\n",
    "circuit.cx(0,1)\n",
    "circuit.x(0)\n",
    "circuit.z(0)\n",
    "\n",
    "circuit.unitary(measurement_gate(),[0,1])\n",
    "circuit.measure(1,1)\n",
    "result = execute(circuit, backend=simulator, shots=1).result() \n",
    "statevector = result.get_statevector()\n",
    "show_statevector(statevector)"
   ]
  },
  {
   "cell_type": "markdown",
   "metadata": {},
   "source": [
    "### $\\ket{\\Phi^+}$"
   ]
  },
  {
   "cell_type": "code",
   "execution_count": 5,
   "metadata": {},
   "outputs": [
    {
     "name": "stdout",
     "output_type": "stream",
     "text": [
      "statevector\n",
      "uu, du, ud, dd:\n",
      "0j 0j      (1+0j) 0j\n"
     ]
    }
   ],
   "source": [
    "circuit=qiskit.QuantumCircuit(2,2)\n",
    "simulator = qiskit.Aer.get_backend('statevector_simulator')\n",
    "\n",
    "# Prepare phi+: uu+dd\n",
    "circuit.h(0)\n",
    "circuit.cx(0,1)\n",
    "\n",
    "circuit.unitary(measurement_gate(),[0,1])\n",
    "result = execute(circuit, backend=simulator, shots=1).result() \n",
    "statevector = result.get_statevector()\n",
    "show_statevector(statevector)"
   ]
  },
  {
   "cell_type": "markdown",
   "metadata": {},
   "source": [
    "### Alice entangles particles two and three before Bob leaves, Making $\\ket{\\Psi_{23}^(-)}$\n",
    "\n",
    "The qubit index for particle one is zero, the index for particle two is one and the index for particle three is two."
   ]
  },
  {
   "cell_type": "code",
   "execution_count": 6,
   "metadata": {},
   "outputs": [],
   "source": [
    "def entangle():\n",
    "    circuit=qiskit.QuantumCircuit(3,3)\n",
    "    circuit.h(1)\n",
    "    circuit.cx(1,2)\n",
    "    circuit.x(1)\n",
    "    circuit.z(1)\n",
    "    return circuit\n"
   ]
  },
  {
   "cell_type": "code",
   "execution_count": 7,
   "metadata": {},
   "outputs": [
    {
     "name": "stdout",
     "output_type": "stream",
     "text": [
      "title    uuu:0j duu:0j     udu:(-0.707+0j) ddu:0j     uud:(0.707+0j) dud:0j     udd:0j ddd0j\n"
     ]
    }
   ],
   "source": [
    "# Verify that the function entangle produces the correct state\n",
    "verify = True\n",
    "if verify:\n",
    "    circuit=entangle()\n",
    "    circuit.draw()\n",
    "    simulator = qiskit.Aer.get_backend('statevector_simulator')\n",
    "    result = execute(circuit, backend=simulator, shots=1).result() \n",
    "    statevector = result.get_statevector()\n",
    "    show_statevector3(statevector)"
   ]
  },
  {
   "cell_type": "markdown",
   "metadata": {},
   "source": [
    "## States before any measurements\n",
    "\n",
    "Particle one: $\\phi_1 = (a,b)$\n",
    "\n",
    "Combined state of three particles:\n",
    "\n",
    "$\\ket{\\Psi_{123}}=\\ket{\\phi}\\ket{\\Psi_{23}^{(-)}}$ Particles two and three are entangled but particle one is not\n",
    "\n",
    "Substituting for $\\ket{\\phi}$ and $\\Psi_{23}^{(-)}$:\n",
    "\n",
    "(Equation 5 from paper) $\\ket{\\Psi_{123}}=\\frac{1}{2}[\\ket{\\psi_{12}^-}(-a\\ket{u_3}-b\\ket{d_3})+$\n",
    "$\\ket{\\Psi_{12}^+}(-a\\ket{u_3}+b\\ket{d_3}+$\n",
    "$\\ket{\\Phi_{12}^-}(a\\ket{d_3}+b\\ket{u_3})+$\n",
    "$\\ket{\\Phi_{12}+}(a\\ket{d_3}-b\\ket{u_3})]$"
   ]
  },
  {
   "cell_type": "markdown",
   "metadata": {},
   "source": [
    "## First Experiment: Particle One is in a Pure Spin-up State"
   ]
  },
  {
   "cell_type": "code",
   "execution_count": 8,
   "metadata": {},
   "outputs": [],
   "source": [
    "circuit = entangle()"
   ]
  },
  {
   "cell_type": "markdown",
   "metadata": {},
   "source": [
    "## Alice's Measures Particles One and Two\n",
    "\n",
    "### Measurement basis: Bell operator states (EPR states) - Nielsen and Chuang, section 1.3.6 page 25\n",
    "\n",
    "$\\Psi^+=\\sqrt{\\frac{1}{2}}(\\ket{ud}+\\ket{du}=(1,0,0,0))$\n",
    "\n",
    "$\\Psi^-=\\sqrt{\\frac{1}{2}}(\\ket{ud}-\\ket{du}=(0,1,0,0))$\n",
    "\n",
    "$\\ket{\\Phi^+}=\\sqrt{\\frac{1}{2}}(\\ket{uu}+\\ket{dd}=(0,0,1,0)$\n",
    "\n",
    "$\\ket{\\Phi^-}=\\sqrt{\\frac{1}{2}}(\\ket{uu}-\\ket{dd}=(0,0,0,1)$\n",
    "\n",
    "### Quantum computing gate for Alice's measurement\n",
    "\n",
    "$U=\\begin{bmatrix}\\ket{\\Psi^+}\\\\\\\\\\ket{\\Psi^-}\\\\\\\\\\ket{\\Phi^+}\\\\\\\\\\ket{\\Phi^-}\\end{bmatrix} \\text{computation basis}=\\sqrt{\\frac{1}{2}}\\begin{bmatrix}\n",
    "0&1&1&0\\\\\n",
    "0&-1&1&0\\\\\n",
    "1&0&0&1\\\\\n",
    "1&0&0&-1\\end{bmatrix}$"
   ]
  },
  {
   "cell_type": "markdown",
   "metadata": {},
   "source": [
    " Equation (5) with $a=1$ and $b=0$:\n",
    " \n",
    " $\\ket{\\Psi_{123}}=\\frac{1}{2}[\\ket{\\Psi_{12}^{(-)}}(-\\ket{u})+$\n",
    " $\\ket{\\Psi_{12}^{(+)}}(-\\ket{u})+$\n",
    " $\\ket{\\Phi_{12}^{(-)}}\\ket{d}$\n",
    " $+\\ket{\\Phi_{12}^{(+)}}\\ket{d}]\\rightarrow \\frac{1}{2}[-\\ket{duu}-\\ket{uuu}+\\ket{ddd}+\\ket{udd}]$"
   ]
  },
  {
   "cell_type": "code",
   "execution_count": 9,
   "metadata": {},
   "outputs": [
    {
     "name": "stdout",
     "output_type": "stream",
     "text": [
      "title    uuu:(-0.5+0j) duu:(-0.5+0j)     udu:0j ddu:0j     uud:0j dud:0j     udd:(0.5+0j) ddd(0.5+0j)\n"
     ]
    }
   ],
   "source": [
    "circuit.unitary(measurement_gate(),[0,1])\n",
    "simulator = qiskit.Aer.get_backend('statevector_simulator')\n",
    "\n",
    "result = execute(circuit, backend=simulator, shots=1).result() \n",
    "statevector = result.get_statevector()\n",
    "show_statevector3(statevector)"
   ]
  },
  {
   "cell_type": "markdown",
   "metadata": {},
   "source": [
    "### Reconstructing the particle state\n",
    "\n",
    "| Partice one state | Particle's One and Two after measurement|Alice's measurement | Particle three state before operation | Particle three final state|\n",
    "| ------------- | ---------- | ----- | ---- |----- |\n",
    "| $\\ket{u}$ | $\\ket{\\Psi^+}$ | 00 | $-\\ket{u}$ |$\\ket{u}$|\n",
    "| $\\ket{d}$ | $\\ket{\\Psi^-}$ | 10 | $-\\ket{d}$ |$\\ket{d}$|\n",
    "| $\\ket{u}$ | $\\ket{\\Phi^+}$ | 01 | $\\ket{d}$ |$\\ket{u}$|\n",
    "| $\\ket{d}$ | $\\ket{\\Phi^-}$ | 11| $\\ket{u}$ |$\\ket{d}$|\n",
    "\n",
    "#### Now we simulate the experiment on the quantum computer, first preparing particle one in the \"up\" state, then the \"down\" state and finally in a superposition. In all three cases, Alice's four measurement outcomes are equally probable because she is not extracting any information about the state of particle one. Depending on the result of Alice's measurement, the state of Bob's particle before he does his physical operation, is either the same as or opposite from paticle one. That is why he needs to do a physical operation"
   ]
  },
  {
   "cell_type": "code",
   "execution_count": 10,
   "metadata": {},
   "outputs": [
    {
     "name": "stdout",
     "output_type": "stream",
     "text": [
      "Particle one - Alice's Measurement - Particle three before operation - Count\n",
      "u\t\t10\t\t\tu\t\t\t\t 8157\n",
      "u\t\t11\t\t\td\t\t\t\t 8171\n",
      "u\t\t00\t\t\tu\t\t\t\t 8305\n",
      "u\t\t01\t\t\td\t\t\t\t 8135\n",
      "\n",
      "\n",
      "d\t\t01\t\t\tu\t\t\t\t 8220\n",
      "d\t\t11\t\t\tu\t\t\t\t 8186\n",
      "d\t\t10\t\t\td\t\t\t\t 8292\n",
      "d\t\t00\t\t\td\t\t\t\t 8070\n",
      "\n",
      "\n",
      "mixed\t\t01\t\t\tu\t\t\t\t 4109\n",
      "mixed\t\t11\t\t\td\t\t\t\t 4084\n",
      "mixed\t\t11\t\t\tu\t\t\t\t 4103\n",
      "mixed\t\t00\t\t\tu\t\t\t\t 4113\n",
      "mixed\t\t00\t\t\td\t\t\t\t 4117\n",
      "mixed\t\t01\t\t\td\t\t\t\t 4080\n",
      "mixed\t\t10\t\t\tu\t\t\t\t 4032\n",
      "mixed\t\t10\t\t\td\t\t\t\t 4130\n",
      "\n",
      "\n"
     ]
    }
   ],
   "source": [
    "def spin(k):\n",
    "    if k=='0':\n",
    "        return 'u'\n",
    "    return 'd'\n",
    "gates = ['none','x','h']\n",
    "print(\"Particle one - Alice's Measurement - Particle three before operation - Count\")\n",
    "for gate in gates:\n",
    "    # Alice entangles particles two and three\n",
    "    circuit = entangle()\n",
    "    if gate == 'x':\n",
    "        circuit.x(0)\n",
    "    elif gate == 'h':\n",
    "        circuit.h(0)\n",
    "\n",
    "    # Alice measures particles one and two in the Bell operator basis and Bob measures particle three\n",
    "#     in the standard base (spin up/down)\n",
    "    circuit.unitary(measurement_gate(),[0,1])\n",
    "    circuit.measure(0,0)\n",
    "    circuit.measure(1,1)\n",
    "    circuit.measure(2,2)\n",
    "    # There are four equally probable outcomes\n",
    "    result = execute(circuit, backend=QasmSimulator(), shots=8192*4).result() \n",
    "    counts=result.get_counts()\n",
    "#     print('\\n')\n",
    "#     print(gate, counts)\n",
    "    if gate == 'none':\n",
    "        state2 = 'u'\n",
    "    elif gate == 'x':\n",
    "        state2 = 'd'\n",
    "    elif gate == 'h':\n",
    "        state2 = 'mixed'\n",
    "    else:\n",
    "        state2 = '?'\n",
    "    for k in counts.keys():\n",
    "        three = spin(k[0])\n",
    "        two = spin(k[1])\n",
    "        one = spin(k[2])\n",
    "        if one=='u' and two=='u':\n",
    "            state = '00'\n",
    "        elif one=='u' and two=='d':\n",
    "            state = '01'\n",
    "        elif one=='d' and two=='u':\n",
    "            state = '10'\n",
    "        else:\n",
    "            state = '11'\n",
    "#         state = k + '-' + state\n",
    "        state+='\\t\\t\\t'+three\n",
    "        print(f'{state2}\\t\\t{state}\\t\\t\\t\\t {counts[k]}')\n",
    "\n",
    "    print('\\n')"
   ]
  },
  {
   "cell_type": "markdown",
   "metadata": {},
   "source": [
    "#### After Bob has applied the physical operation to reconstruct the teleported state, he can perform measurements in any basis at all - not just spin up/down. The results he gets will have the same distributions of ones and zeros as Alice would have gotten had she measured particle one rather than entangling it.\n",
    "\n"
   ]
  },
  {
   "cell_type": "code",
   "execution_count": null,
   "metadata": {},
   "outputs": [],
   "source": []
  }
 ],
 "metadata": {
  "kernelspec": {
   "display_name": "venv_qiskit",
   "language": "python",
   "name": "venv_qiskit"
  },
  "language_info": {
   "codemirror_mode": {
    "name": "ipython",
    "version": 3
   },
   "file_extension": ".py",
   "mimetype": "text/x-python",
   "name": "python",
   "nbconvert_exporter": "python",
   "pygments_lexer": "ipython3",
   "version": "3.8.10"
  }
 },
 "nbformat": 4,
 "nbformat_minor": 4
}
