{
 "cells": [
  {
   "cell_type": "markdown",
   "metadata": {},
   "source": [
    "# Teleporting an Unknown Quantum State via Dual Einstein-Podolsky-Rosen Channels\n",
    "\n",
    "*Physical Review Letters, 70:13, 1895. 29 March 1993*\n",
    "\n",
    "https://researcher.watson.ibm.com/researcher/files/us-bennetc/BBCJPW.pdf.\n",
    "\n",
    "Particle One is in an unknown state. So as not to disturb it, Alice has created an Einstein-Podolsky-Rosen pair of entangled particles (particles two and three). She sends particle three to Bob. She also measures particles one and two and sends the result of her measurement to Bob. Bob examines particle three and, in the light of the measurement information he received, figures out what the state of particle one was."
   ]
  },
  {
   "cell_type": "code",
   "execution_count": 34,
   "metadata": {},
   "outputs": [],
   "source": [
    "import qiskit\n",
    "from qiskit import QuantumCircuit, transpile, execute\n",
    "from qiskit.extensions import UnitaryGate\n",
    "from qiskit.providers.aer import QasmSimulator\n",
    "from qiskit.tools.visualization import plot_bloch_multivector, plot_histogram\n",
    "from qiskit import IBMQ\n",
    "from qiskit.tools.monitor import job_monitor\n",
    "\n",
    "import numpy as np\n",
    "import matplotlib.pyplot as plt\n",
    "import warnings\n",
    "import math\n",
    "warnings.filterwarnings('ignore')"
   ]
  },
  {
   "cell_type": "markdown",
   "metadata": {},
   "source": [
    "### Utilities to show multiparticle state vectors"
   ]
  },
  {
   "cell_type": "code",
   "execution_count": 35,
   "metadata": {},
   "outputs": [],
   "source": [
    "# Two particles\n",
    "def show_statevector(statevector):\n",
    "    print(f'statevector\\nuu, du, ud, dd:\\n{np.around(statevector[0],3)} {np.around(statevector[1],3)} \\\n",
    "     {np.around(statevector[2], 3)} {np.around(statevector[3],3)}')\n",
    "def show_statevector3(statevector, title=''):\n",
    "    #Three particles\n",
    "    print(f'title\\\n",
    "    uuu:{np.around(statevector[0],3)} duu{np.around(statevector[1],3)}\\\n",
    "     udu:{np.around(statevector[2], 3)} ddu{np.around(statevector[3],3)}\\\n",
    "     uud:{np.around(statevector[4], 3)} dud:{np.around(statevector[5],3)}\\\n",
    "     udd:{np.around(statevector[6], 3)} ddd{np.around(statevector[7], 3)}')\n"
   ]
  },
  {
   "cell_type": "markdown",
   "metadata": {},
   "source": [
    "$$\\newcommand{\\ket}[1]{\\left|{#1}\\right\\rangle}$$\n",
    "$$\\newcommand{\\bra}[1]{\\left\\langle{#1}\\right|}$$\n",
    "$$\\newcommand{\\braket}[2]{\\left\\langle{#1}\\middle|{#2}\\right\\rangle}$$"
   ]
  },
  {
   "cell_type": "markdown",
   "metadata": {},
   "source": [
    "#### zero=$\\ket{u}$=(1,0) \n",
    "#### one=$\\ket{d}$=(0,1)"
   ]
  },
  {
   "cell_type": "markdown",
   "metadata": {},
   "source": [
    "## Bell Measurement Operator States\n",
    "\n",
    "$\\Psi^+=\\sqrt{\\frac{1}{2}}(\\ket{ud}+\\ket{du}=(1,0,0,0))$\n",
    "\n",
    "$\\Psi^-=\\sqrt{\\frac{1}{2}}(\\ket{ud}-\\ket{du}=(0,1,0,0))$\n",
    "\n",
    "$\\ket{\\Phi^+}=\\sqrt{\\frac{1}{2}}(\\ket{uu}+\\ket{dd}=(0,0,1,0)$\n",
    "\n",
    "$\\ket{\\Phi^-}=\\sqrt{\\frac{1}{2}}(\\ket{uu}-\\ket{dd}=(0,0,0,1)$\n",
    "\n",
    "## Unitary Matrix for Measurement\n",
    "\n",
    "$\\bra{\\Psi^+}\\ket{uu}=0$\n",
    "\n",
    "$\\bra{\\Psi^+}\\ket{ud}= \\sqrt{\\frac{1}{2}}$\n",
    "\n",
    "$\\bra{\\Psi^+}\\ket{ud}= \\sqrt{\\frac{1}{2}}$\n",
    "\n",
    "$\\bra{\\Psi^+}\\ket{dd}=0$\n",
    "\n",
    "$\\bra{\\Psi^-}\\ket{uu}=0$\n",
    "\n",
    "$\\bra{\\Psi^-}\\ket{ud}=\\sqrt{\\frac{1}{2}}$\n",
    "\n",
    "$\\bra{\\Psi^-}\\ket{du}=\\sqrt{\\frac{1}{2}}$\n",
    "\n",
    "$\\bra{\\Psi^-}\\ket{dd}=0$\n",
    "\n",
    "$\\bra{\\Phi^+}\\ket{uu}=\\sqrt{\\frac{1}{2}}$\n",
    "\n",
    "$\\bra{\\Phi^+}\\ket{ud}=0$\n",
    "\n",
    "$\\bra{\\Phi^+}\\ket{du}=0$\n",
    "\n",
    "$\\bra{\\Phi^+}\\ket{dd}=\\sqrt{\\frac{1}{2}}$\n",
    "\n",
    "$\\bra{\\Phi^-}\\ket{uu}=\\sqrt{\\frac{1}{2}}$\n",
    "\n",
    "$\\bra{\\Phi^-}\\ket{ud}=0$\n",
    "\n",
    "$\\bra{\\Phi^-}\\ket{du}=0$\n",
    "\n",
    "$\\bra{\\Phi^-}\\ket{dd}=\\sqrt{\\frac{1}{2}}$\n",
    "\n",
    "$U=\\sqrt{\\frac{1}{2}}\\begin{bmatrix}\n",
    "0&1&1&0\\\\\n",
    "0&1&-1&0\\\\\n",
    "1&0&0&1\\\\\n",
    "1&0&0&-1\\end{bmatrix}$\n",
    "\n"
   ]
  },
  {
   "cell_type": "code",
   "execution_count": 36,
   "metadata": {},
   "outputs": [],
   "source": [
    "def measurement_gate(show=False):\n",
    "    u=np.array([[0,1,1,0],\\\n",
    "                 [0,1,-1,0],\\\n",
    "                 [1,0,0,1],\\\n",
    "                  [1,0,0,-1]])/np.sqrt(2)\n",
    "\n",
    "    if show:\n",
    "        print('unitary matrix for projection')\n",
    "        print(u[0,0],u[0,1], u[0,2], u[0,3])\n",
    "        print(u[1,0],u[1,1], u[1,2], u[1,3])\n",
    "        print(u[2,0], u[2,1], u[2,2], u[2,3])\n",
    "        print(u[3,0], u[3,1], u[3,2], u[3,3])\n",
    "\n",
    "    return u    "
   ]
  },
  {
   "cell_type": "code",
   "execution_count": 37,
   "metadata": {},
   "outputs": [],
   "source": [
    "\n",
    "def make_psi_minus(qaa,qbb):\n",
    "    qa = qaa-1\n",
    "    qb=3-qbb-1\n",
    "    circuit=qiskit.QuantumCircuit(3,3)\n",
    "    circuit.h(qa)\n",
    "    circuit.cx(qa,qb)\n",
    "    circuit.x(qa)\n",
    "    circuit.z(qa)\n",
    "    return circuit\n"
   ]
  },
  {
   "cell_type": "code",
   "execution_count": 38,
   "metadata": {},
   "outputs": [
    {
     "data": {
      "text/html": [
       "<pre style=\"word-wrap: normal;white-space: pre;background: #fff0;line-height: 1.1;font-family: &quot;Courier New&quot;,Courier,monospace\">                         \n",
       "q_0: ────────────────────\n",
       "     ┌───┐     ┌───┐┌───┐\n",
       "q_1: ┤ H ├──■──┤ X ├┤ Z ├\n",
       "     └───┘┌─┴─┐└───┘└───┘\n",
       "q_2: ─────┤ X ├──────────\n",
       "          └───┘          \n",
       "c: 3/════════════════════\n",
       "                         </pre>"
      ],
      "text/plain": [
       "                         \n",
       "q_0: ────────────────────\n",
       "     ┌───┐     ┌───┐┌───┐\n",
       "q_1: ┤ H ├──■──┤ X ├┤ Z ├\n",
       "     └───┘┌─┴─┐└───┘└───┘\n",
       "q_2: ─────┤ X ├──────────\n",
       "          └───┘          \n",
       "c: 3/════════════════════\n",
       "                         "
      ]
     },
     "execution_count": 38,
     "metadata": {},
     "output_type": "execute_result"
    }
   ],
   "source": [
    "circuit=make_psi_minus(2,3)\n",
    "circuit.draw()"
   ]
  },
  {
   "cell_type": "code",
   "execution_count": 39,
   "metadata": {},
   "outputs": [],
   "source": [
    "# Debugging utilities\n",
    "def helper(statevector):\n",
    "    j=-1\n",
    "    for i, a in enumerate(statevector):\n",
    "        if np.abs(a)>.9:\n",
    "            j=i\n",
    "            break\n",
    "    if j == 0:\n",
    "        return 'Psi_plus'\n",
    "    elif j == 1:\n",
    "        return 'Psi_minus'\n",
    "    elif j == 2:\n",
    "        return 'Phi_plus'\n",
    "    elif j == 3:\n",
    "        return 'Phi_minus'\n",
    "    elif j == 4:\n",
    "        return 'Psi_plus'\n",
    "    elif j == 5:\n",
    "        return 'Psi_minus'\n",
    "    elif j == 6:\n",
    "        return 'Phi_plus'\n",
    "    return 'Phi_minus'\n",
    "def helper2(counts):\n",
    "    c = counts[2]+counts[1]\n",
    "    if c == '00':\n",
    "        measurement = 'Psi_plus'\n",
    "    elif c=='01': #ud\n",
    "        measurement = 'Phi_plus'\n",
    "    elif c=='10': #du\n",
    "        measurement = 'Psi_minus'\n",
    "    else:\n",
    "        measurement = 'Phi__minus'\n",
    "    return measurement"
   ]
  },
  {
   "cell_type": "markdown",
   "metadata": {},
   "source": [
    "## Run Circuit with Particle One in Pure State"
   ]
  },
  {
   "cell_type": "code",
   "execution_count": 40,
   "metadata": {},
   "outputs": [
    {
     "name": "stdout",
     "output_type": "stream",
     "text": [
      "title    uuu:(-0+0j) duu0j     udu:(-0+0j) ddu0j     uud:0j dud:0j     udd:(1+0j) ddd0j\n"
     ]
    }
   ],
   "source": [
    "circuit = make_psi_minus(2,3)\n",
    "circuit.h(0)\n",
    "circuit.unitary(measurement_gate(),[0,1])\n",
    "circuit.measure(0,0)\n",
    "circuit.measure(1,1)\n",
    "circuit.measure(2,2)\n",
    "simulator=QasmSimulator()\n",
    "simulator = qiskit.Aer.get_backend('statevector_simulator')\n",
    "\n",
    "result = execute(circuit, backend=simulator, shots=1).result() \n",
    "statevector = result.get_statevector()\n",
    "show_statevector3(statevector, title = helper(statevector))\n",
    "counts=result.get_counts()\n",
    "counts = list(counts.keys())[0]"
   ]
  },
  {
   "cell_type": "markdown",
   "metadata": {},
   "source": [
    "## Alice Measures Particles One and Two\n",
    "\n",
    "### Three-particle state\n",
    "$\\Psi_1 = (a,b)$\n",
    "\n",
    "$\\ket{\\Psi_{123}}=\\frac{1}{2}[\\ket{\\psi_{12}^-}(-a\\ket{u_3}-b\\ket{d_3})+$\n",
    "$\\ket{\\Psi_{12}^+}(-a\\ket{u_3}+b\\ket{d_3}+$\n",
    "$\\ket{\\Phi_{12}^-}(a\\ket{d_3}+b\\ket{u_3})+$\n",
    "$\\ket{\\Phi_{12}+}(a\\ket{d_3}-b\\ket{u_3})]$"
   ]
  },
  {
   "cell_type": "code",
   "execution_count": 41,
   "metadata": {},
   "outputs": [
    {
     "name": "stdout",
     "output_type": "stream",
     "text": [
      "Particle three was \"down\" - particle one was \"up\"\n"
     ]
    }
   ],
   "source": [
    "measurement = helper2(counts)\n",
    "if measurement in ['Psi_plus', 'Psi_minus']:\n",
    "    if counts[0]=='0':\n",
    "        print('Particle three was \"up\" - particle one was \"up\"')\n",
    "    else:\n",
    "        print('Particle three was \"down\" - paricle three was down')\n",
    "else:\n",
    "    if counts[0]=='0':\n",
    "        print('Particle three was \"up\" - particle one was \"down\"'),\n",
    "    else:\n",
    "        print('Particle three was \"down\" - particle one was \"up\"')"
   ]
  },
  {
   "cell_type": "code",
   "execution_count": 42,
   "metadata": {},
   "outputs": [],
   "source": [
    "#Helper functions for debugging\n",
    "def helper4(p):\n",
    "    if p == '0':\n",
    "        return 'u'\n",
    "    return 'd'"
   ]
  },
  {
   "cell_type": "markdown",
   "metadata": {},
   "source": [
    "## Alice Measure Particles One and Two"
   ]
  },
  {
   "cell_type": "code",
   "execution_count": 43,
   "metadata": {},
   "outputs": [],
   "source": [
    "def helper5(k):\n",
    "    c1 = k[2]\n",
    "    c2 = k[1]\n",
    "    c = c1 + c2\n",
    "    if c == '00':\n",
    "        measurement = 'Psi_plus'\n",
    "    elif c=='01':\n",
    "        measurement = 'Phi_plus'\n",
    "    elif c=='10':\n",
    "        measurement = 'Psi_minus'\n",
    "    else:\n",
    "        measurement = 'Phi__minus'\n",
    "    return measurement"
   ]
  },
  {
   "cell_type": "markdown",
   "metadata": {},
   "source": [
    "### Bob Uses Results of Alice's Measurement to Interpret His Measurements on Particle 3"
   ]
  },
  {
   "cell_type": "code",
   "execution_count": 44,
   "metadata": {},
   "outputs": [],
   "source": [
    "def count_particle_1(counts):\n",
    "    p1_up=0\n",
    "    p1_down=0\n",
    "    for k in counts.keys():\n",
    "        v = counts[k]\n",
    "        \n",
    "        measurement = helper5(k)\n",
    "\n",
    "        p1=k[2]\n",
    "        p2=k[1]\n",
    "        p3=k[0]\n",
    "\n",
    "        if measurement in ['Psi_plus', 'Psi_minus']:\n",
    "            if p3=='0':\n",
    "                p1_up += v\n",
    "#                 print('Particle three was \"up\" - particle one was \"up\"')\n",
    "            else:\n",
    "                p1_down += v\n",
    "#                 print('Particle three was \"down\" - paricle three was down')\n",
    "        else:\n",
    "            if p3 =='0':\n",
    "                p1_down += v\n",
    "#                 print('Particle three was \"up\" - particle one was \"down\"')\n",
    "            else:\n",
    "#                 print('Particle three was \"down\" - particle one was \"up\"')\n",
    "                p1_up += v\n",
    "        \n",
    "#         print(measurement + ' ' + helper4(p1)+helper4(p2)+helper4(p3)+ ' ' + str(v))\n",
    "    percentage = np.around(p1_up/(p1_up+p1_down)*100,0)\n",
    "    print(f'Particle 1 was up {percentage}%')"
   ]
  },
  {
   "cell_type": "markdown",
   "metadata": {},
   "source": [
    "## Start With Particle One in Mixed State"
   ]
  },
  {
   "cell_type": "code",
   "execution_count": 45,
   "metadata": {},
   "outputs": [
    {
     "name": "stdout",
     "output_type": "stream",
     "text": [
      "Particle 1 was up 49.0%\n"
     ]
    }
   ],
   "source": [
    "circuit = make_psi_minus(2,3)\n",
    "circuit.h(0)\n",
    "circuit.unitary(measurement_gate(),[0,1])\n",
    "circuit.measure(0,0)\n",
    "circuit.measure(1,1)\n",
    "circuit.measure(2,2)\n",
    "simulator=QasmSimulator()\n",
    "\n",
    "result = execute(circuit, backend=simulator, shots=1024).result() \n",
    "counts=result.get_counts()\n",
    "count_particle_1(counts)"
   ]
  },
  {
   "cell_type": "code",
   "execution_count": null,
   "metadata": {},
   "outputs": [],
   "source": []
  }
 ],
 "metadata": {
  "kernelspec": {
   "display_name": "venv_qiskit",
   "language": "python",
   "name": "venv_qiskit"
  },
  "language_info": {
   "codemirror_mode": {
    "name": "ipython",
    "version": 3
   },
   "file_extension": ".py",
   "mimetype": "text/x-python",
   "name": "python",
   "nbconvert_exporter": "python",
   "pygments_lexer": "ipython3",
   "version": "3.8.10"
  }
 },
 "nbformat": 4,
 "nbformat_minor": 4
}
