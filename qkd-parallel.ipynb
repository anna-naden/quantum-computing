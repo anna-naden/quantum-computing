{
 "cells": [
  {
   "cell_type": "markdown",
   "metadata": {},
   "source": [
    "https://www.youtube.com/watch?v=lVXJgn3fDkg"
   ]
  },
  {
   "cell_type": "code",
   "execution_count": 1,
   "metadata": {},
   "outputs": [],
   "source": [
    "import qiskit\n",
    "from qiskit import QuantumCircuit, transpile, execute\n",
    "from qiskit.extensions import UnitaryGate\n",
    "from qiskit.providers.aer import QasmSimulator\n",
    "from qiskit.tools.visualization import plot_bloch_multivector, plot_histogram\n",
    "from qiskit import IBMQ\n",
    "from qiskit.tools.monitor import job_monitor\n",
    "\n",
    "import numpy as np\n",
    "import matplotlib.pyplot as plt\n",
    "import warnings\n",
    "import math\n",
    "warnings.filterwarnings('ignore')"
   ]
  },
  {
   "cell_type": "code",
   "execution_count": 2,
   "metadata": {},
   "outputs": [],
   "source": [
    "from qiskit.tools.visualization import plot_bloch_multivector, plot_histogram"
   ]
  },
  {
   "cell_type": "markdown",
   "metadata": {},
   "source": [
    "$$\\newcommand{\\ket}[1]{\\left|{#1}\\right\\rangle}$$\n",
    "$$\\newcommand{\\bra}[1]{\\left\\langle{#1}\\right|}$$\n",
    "$$\\newcommand{\\braket}[2]{\\left\\langle{#1}\\middle|{#2}\\right\\rangle}$$"
   ]
  },
  {
   "cell_type": "code",
   "execution_count": 3,
   "metadata": {},
   "outputs": [],
   "source": [
    "# Display measurement results\n",
    "def show_barchart(counts):\n",
    "    y_pos=np.arange(2)\n",
    "    objects=['a','b']\n",
    "    plt.xticks(y_pos, objects)\n",
    "    plt.bar(y_pos, counts)\n",
    "def show_statevector(statevector):\n",
    "    print('statevector')\n",
    "    for z in statevector:\n",
    "        print(np.around(z,3))\n",
    "    print('\\n')\n",
    "def get_probabilities(statevector):\n",
    "    n_uu = np.abs(statevector[0])**2\n",
    "    n_du = np.abs(statevector[1])**2\n",
    "    n_ud = np.abs(statevector[2])**2\n",
    "    n_dd = np.abs(statevector[3])**2\n",
    "    return n_uu, n_du, n_ud, n_dd\n"
   ]
  },
  {
   "cell_type": "markdown",
   "metadata": {},
   "source": [
    "## Verify that the matrix for the gate is unitary"
   ]
  },
  {
   "cell_type": "code",
   "execution_count": 4,
   "metadata": {},
   "outputs": [],
   "source": [
    "def unitary(U):\n",
    "    assert(np.around(np.matmul(np.conj(np.transpose(U)),U),5)==np.eye(2)).all()"
   ]
  },
  {
   "cell_type": "markdown",
   "metadata": {},
   "source": [
    "## Gate for non-vertical measurement basis\n",
    "\n",
    "The rows of the unitary matrix for the measurement are the complex conjugates of the states of the measurement basis, which is in the yz plane"
   ]
  },
  {
   "cell_type": "code",
   "execution_count": 5,
   "metadata": {},
   "outputs": [],
   "source": [
    "def measurement_gate(theta, show):\n",
    "    U=np.array([[math.cos(theta/2),math.sin(theta/2)],\\\n",
    "                [math.sin(theta/2),-math.cos(theta/2)]])\n",
    "    if show:\n",
    "        print('unitary matrix for projection')\n",
    "        print(U[0,0],U[0,1])\n",
    "        print(U[1,0],U[1,1])\n",
    "    unitary(U)\n",
    "    return U\n",
    "    "
   ]
  },
  {
   "cell_type": "markdown",
   "metadata": {},
   "source": [
    "## Project state vector onto new measurement basis"
   ]
  },
  {
   "cell_type": "code",
   "execution_count": 6,
   "metadata": {},
   "outputs": [],
   "source": [
    "def project(bit,circuit, theta, show):\n",
    "    U = measurement_gate(theta, show)\n",
    "    circuit.unitary(U,[bit])\n",
    "    return circuit"
   ]
  },
  {
   "cell_type": "markdown",
   "metadata": {},
   "source": [
    "## Measure with polarization not vertical"
   ]
  },
  {
   "cell_type": "code",
   "execution_count": 7,
   "metadata": {},
   "outputs": [],
   "source": [
    "def measure(bit, circuit, angle, show=False):\n",
    "    circuit = project(bit, circuit, angle, show)\n",
    "    circuit.measure(bit,bit)\n",
    "    return circuit"
   ]
  },
  {
   "cell_type": "code",
   "execution_count": 8,
   "metadata": {},
   "outputs": [],
   "source": [
    "def get_encoding(keybit, basis):\n",
    "    return 2*keybit+basis"
   ]
  },
  {
   "cell_type": "code",
   "execution_count": 9,
   "metadata": {},
   "outputs": [],
   "source": [
    "def prepare_states(keybits, bases):\n",
    "    keysize = len(keybits)\n",
    "    circuit = qiskit.QuantumCircuit(keysize, keysize)\n",
    "    for i in range(keysize):\n",
    "        encoding = get_encoding(keybits[i], bases[i])\n",
    "        if encoding == 0:\n",
    "    #             zero degrees\n",
    "            pass\n",
    "        elif encoding == 1:\n",
    "    #             90 degrees\n",
    "            circuit.h(i)\n",
    "        elif encoding == 2:\n",
    "    #             180 degrees\n",
    "            circuit.x(i)\n",
    "        else:\n",
    "    #             270 degrees\n",
    "            circuit.x(i)\n",
    "            circuit.h(i)\n",
    "    return circuit"
   ]
  },
  {
   "cell_type": "code",
   "execution_count": 10,
   "metadata": {},
   "outputs": [
    {
     "name": "stdout",
     "output_type": "stream",
     "text": [
      "ibmq_qasm_simulator\n",
      "ibmq_armonk\n",
      "ibmq_santiago\n",
      "ibmq_bogota\n",
      "ibmq_lima\n",
      "ibmq_belem\n",
      "ibmq_quito\n",
      "simulator_statevector\n",
      "simulator_mps\n",
      "simulator_extended_stabilizer\n",
      "simulator_stabilizer\n",
      "ibmq_manila\n"
     ]
    }
   ],
   "source": [
    "shots=100\n",
    "simulate = False\n",
    "if simulate:\n",
    "    backend = QasmSimulator()\n",
    "#     backend = qiskit.Aer.get_backend('statevector_simulator')\n",
    "else:\n",
    "#     IBMQ.save_account('efd5018b00323f5067f48f9b32e44c06c925296ffa6ef34f5b21e647925c945a8dd97a62469066d4f53f51f4cfc614ece675ce6a99b4272e636ac4a6faa33e5')\n",
    "\n",
    "    IBMQ.load_account()\n",
    "    provider = IBMQ.get_provider(hub='ibm-q', group='open', project='main')\n",
    "    for b in provider.backends():\n",
    "        print(b)\n",
    "    backend = provider.get_backend('ibmq_quito')    \n",
    "thetas=math.radians(0), math.radians(90), math.radians(180), math.radians(270)"
   ]
  },
  {
   "cell_type": "markdown",
   "metadata": {},
   "source": [
    "## Alice draws a random sequence of key bits\n",
    "\n",
    "## Alice draws a random sequence of measurement basis vectors\n",
    "\n",
    "## Bob draws a random sequence of measurement basis vactors"
   ]
  },
  {
   "cell_type": "code",
   "execution_count": 11,
   "metadata": {},
   "outputs": [],
   "source": [
    "keysize=5\n",
    "# np.random.seed(0)\n",
    "alice_key=np.random.randint(2,size=keysize)\n",
    "bob_key = np.ndarray(keysize, dtype=int)\n",
    "alice_bases = np.random.randint(2, size=keysize)\n",
    "bob_bases = np.random.randint(2, size=keysize)"
   ]
  },
  {
   "cell_type": "markdown",
   "metadata": {},
   "source": [
    "## Alice encodes her choices of key bits and measurement basis vectors into qubits\n",
    "\n",
    "## Alice transmits her qubits to Bob\n",
    "\n",
    "## Bob measures Alice's qubits in his chosen measurement bases\n",
    "\n",
    "## Alice and Bob each publish their chosen measurement bases"
   ]
  },
  {
   "cell_type": "code",
   "execution_count": 12,
   "metadata": {},
   "outputs": [
    {
     "name": "stdout",
     "output_type": "stream",
     "text": [
      "Job Status: job has successfully run\n"
     ]
    }
   ],
   "source": [
    "circuit = prepare_states(alice_key, alice_bases)\n",
    "for i, keybit in enumerate(alice_key):\n",
    "    alice_basis = alice_bases[i]\n",
    "    bob_basis = bob_bases[i]\n",
    "\n",
    "    \n",
    "#         Bob measures Alice's qubit in his chosen measurement basis\n",
    "    if bob_basis == 0:\n",
    "        circuit = measure(i, circuit, 0)\n",
    "    else:\n",
    "        circuit = measure(i, circuit, math.radians(90))\n",
    "        \n",
    "if simulate:\n",
    "    result = qiskit.execute(circuit, backend=backend).result()\n",
    "#     statevector = result.get_statevector()\n",
    "#     show_statevector(statevector)\n",
    "    compiled_circuit = transpile(circuit)\n",
    "    job = backend.run(compiled_circuit, shots=shots)\n",
    "    result = job.result()\n",
    "else:\n",
    "#             live backend\n",
    "    job = execute(circuit, backend=backend, shots=shots)\n",
    "    job_monitor(job)\n",
    "    result = job.result()\n",
    "counts = result.get_counts(circuit)\n",
    "num_shots_bit_set = np.zeros(keysize, dtype=int)\n",
    "for key in counts.keys():\n",
    "    count = counts[key]\n",
    "    for i in range(keysize):\n",
    "        if key[keysize-i-1]=='1':\n",
    "            num_shots_bit_set[i] += count\n"
   ]
  },
  {
   "cell_type": "markdown",
   "metadata": {},
   "source": [
    "## Where Alice and Bob chose the same measurement basis, Alice's key bit matches Bob's key bit"
   ]
  },
  {
   "cell_type": "code",
   "execution_count": 13,
   "metadata": {},
   "outputs": [
    {
     "name": "stdout",
     "output_type": "stream",
     "text": [
      "0 0\n",
      "1 1\n",
      "0 0\n"
     ]
    }
   ],
   "source": [
    "for i in range(keysize):\n",
    "    if alice_bases[i]==bob_bases[i]:\n",
    "        bob_key = 0\n",
    "        if num_shots_bit_set[i]>shots/2:\n",
    "            bob_key = 1\n",
    "        print(alice_key[i], bob_key)\n"
   ]
  },
  {
   "cell_type": "code",
   "execution_count": null,
   "metadata": {},
   "outputs": [],
   "source": []
  }
 ],
 "metadata": {
  "kernelspec": {
   "display_name": "venv_qiskit",
   "language": "python",
   "name": "venv_qiskit"
  },
  "language_info": {
   "codemirror_mode": {
    "name": "ipython",
    "version": 3
   },
   "file_extension": ".py",
   "mimetype": "text/x-python",
   "name": "python",
   "nbconvert_exporter": "python",
   "pygments_lexer": "ipython3",
   "version": "3.8.10"
  }
 },
 "nbformat": 4,
 "nbformat_minor": 4
}
