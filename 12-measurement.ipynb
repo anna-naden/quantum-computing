{
 "cells": [
  {
   "cell_type": "markdown",
   "metadata": {},
   "source": [
    "$$\\newcommand{\\ket}[1]{\\left|{#1}\\right\\rangle}$$\n",
    "$$\\newcommand{\\bra}[1]{\\left\\langle{#1}\\right|}$$\n",
    "$$\\newcommand{\\braket}[2]{\\left\\langle{#1}\\middle|{#2}\\right\\rangle}$$"
   ]
  },
  {
   "cell_type": "markdown",
   "metadata": {},
   "source": [
    "# State vectors and Measurement\n",
    "\n",
    "## Postulates of Quantum Mechanics for Quantum Computation\n",
    "\n",
    "<ul>\n",
    "    <li> Postulate 1: the state of a quantum system or quantum computer is given by the state vector, an array of $2^n$ complex numbers where n is the number of qubits, photons or particles</li>\n",
    "    <li> Postulate 2: the evolution of the state of a quantum computer - the way the state changes - is determined by the sequence of gates</li>\n",
    "    <li> Postulate 3: when a measurement is performed, the state changes to a final state which is determined by the measurement outcome, which may be random.  \n",
    "</ul>"
   ]
  },
  {
   "cell_type": "markdown",
   "metadata": {},
   "source": [
    "### Complex Numbers\n",
    "\n",
    "$1\\equiv (1+0j)$\n",
    "\n",
    "$\\sqrt{\\frac{1}{2}}\\approx (0.707+0j)$\n",
    "\n"
   ]
  },
  {
   "cell_type": "markdown",
   "metadata": {},
   "source": [
    "## State Vectors\n",
    "\n",
    "### $\\Psi=\\sqrt{\\frac{1}{2}}(\\ket{0}+\\ket{1})$\n",
    "\n",
    "### Distributive Property\n",
    "\n",
    "$\\sqrt{\\frac{1}{2}}(\\ket{0}+\\ket{1})=\\sqrt{\\frac{1}{2}}\\ket{0}+\\sqrt{\\frac{1}{2}}\\ket{1}$\n",
    "\n",
    "(0.707+0j)|0>+(0.707+0j)|1>\n",
    "\n",
    "### Normalization\n",
    "\n",
    "### $\\braket{\\Psi}{\\Psi}=\\sqrt{\\frac{1}{2}} \\sqrt{\\frac{1}{2}}(\\braket{0}{0} +\\braket{0}{1}+\\braket{1}{0}+\\braket{0}{0})=\\frac{1}{2}(1+1)=1$\n",
    "\n",
    "### $(0.707)(0.707)+(0.707)(0.707)\\approx 1$\n",
    "\n",
    "### $\\sqrt{\\frac{1}{2}}(\\ket{00}+\\ket{11})$\n",
    "\n",
    "### (0.707+0j)|00>+(0.707+0j)|11>\n",
    "\n"
   ]
  },
  {
   "cell_type": "code",
   "execution_count": 1,
   "metadata": {},
   "outputs": [],
   "source": [
    "import qiskit\n",
    "from qiskit import QuantumCircuit, transpile, execute\n",
    "from qiskit.extensions import UnitaryGate\n",
    "from qiskit.providers.aer import QasmSimulator\n",
    "from qiskit.tools.visualization import plot_bloch_multivector, plot_histogram\n",
    "from qiskit import IBMQ\n",
    "from qiskit.tools.monitor import job_monitor\n",
    "\n",
    "import numpy as np\n",
    "import matplotlib.pyplot as plt\n",
    "import warnings\n",
    "import math\n",
    "warnings.filterwarnings('ignore')"
   ]
  },
  {
   "cell_type": "code",
   "execution_count": 2,
   "metadata": {},
   "outputs": [],
   "source": [
    "statevector_simulator = qiskit.Aer.get_backend('statevector_simulator')\n",
    "def ket1(statevector):\n",
    "    statevector = np.around(statevector,3)\n",
    "    zero, one = statevector\n",
    "    text0, text1 = '',''\n",
    "    if zero != 0:\n",
    "        text0 = f'{zero}|0>'\n",
    "    if one != 0:\n",
    "        text1 = f'{one}|1>'\n",
    "    if text0 != '' and text1 != '':\n",
    "        text1 = '+' + text1\n",
    "    return (text0+text1)\n",
    "def ket2(statevector):\n",
    "    statevector = np.around(statevector,3)\n",
    "    zero, one, two, three = statevector\n",
    "    text0, text1, text2, text3 = ['']*4\n",
    "    if zero != 0:\n",
    "        text0 = f'{zero}|00>'\n",
    "    if one != 0:\n",
    "        text1 = f'{one}|10>'\n",
    "    if two != 0:\n",
    "        text2 = f'{two}|01>'\n",
    "    if three != 0:\n",
    "        text3 = f'{three}|11>'\n",
    "    if text0 != '' and text1 != '':\n",
    "        text1 = '+'+text1\n",
    "    if text0 + text1 != '' and text2 != '':\n",
    "        text2 = '+' + text2\n",
    "    if text0 + text1 + text2 != '' and text3 != '':\n",
    "        text3 = '+' + text3\n",
    "    return (text0+text1+text2+text3)"
   ]
  },
  {
   "cell_type": "code",
   "execution_count": 3,
   "metadata": {},
   "outputs": [
    {
     "name": "stdout",
     "output_type": "stream",
     "text": [
      "without measuring\n",
      "\t(0.707+0j)|0>+(0.707+0j)|1>\n",
      "with measuring\n",
      "\t(1+0j)|0>\n",
      "\t(1+0j)|0>\n",
      "\t(1+0j)|1>\n",
      "\t(1+0j)|1>\n",
      "\t(1+0j)|1>\n",
      "\t(1+0j)|1>\n",
      "\t(1+0j)|0>\n",
      "\t(1+0j)|1>\n"
     ]
    },
    {
     "data": {
      "image/png": "[encoded data removed]",
      "text/plain": [
       "<Figure size 504x360 with 1 Axes>"
      ]
     },
     "execution_count": 3,
     "metadata": {},
     "output_type": "execute_result"
    }
   ],
   "source": [
    "def prepare_circuit(measure=False):\n",
    "    circuit = qiskit.QuantumCircuit(1,1)\n",
    "    circuit.h(0)\n",
    "    if measure:\n",
    "        circuit.measure(0,0)\n",
    "    return circuit\n",
    "statevector = execute(prepare_circuit(), backend=statevector_simulator).result().get_statevector()\n",
    "print('without measuring')\n",
    "print('\\t'+ket1(statevector))\n",
    "print('with measuring')\n",
    "for i in range(8):\n",
    "    statevector = execute(prepare_circuit(True), backend=statevector_simulator).result().get_statevector()\n",
    "    print('\\t'+ket1(statevector))\n",
    "    \n",
    "counts = execute(prepare_circuit(True), backend=QasmSimulator(), shots=1000).result().get_counts()\n",
    "plot_histogram(counts)"
   ]
  },
  {
   "cell_type": "code",
   "execution_count": 4,
   "metadata": {},
   "outputs": [
    {
     "name": "stdout",
     "output_type": "stream",
     "text": [
      "without measurement\n",
      "\t(0.707+0j)|00>+(0.707+0j)|11>\n",
      "measuring qubit zero\n",
      "\t(1+0j)|11>\n",
      "\t(1+0j)|11>\n",
      "\t(1+0j)|00>\n",
      "\t(1+0j)|11>\n",
      "\t(1+0j)|00>\n",
      "\t(1+0j)|11>\n",
      "\t(1+0j)|11>\n",
      "\t(1+0j)|11>\n"
     ]
    },
    {
     "data": {
      "image/png": "[encoded data removed]",
      "text/plain": [
       "<Figure size 504x360 with 1 Axes>"
      ]
     },
     "execution_count": 4,
     "metadata": {},
     "output_type": "execute_result"
    }
   ],
   "source": [
    "def prepare_circuit2(qubits=[]):\n",
    "    circuit = qiskit.QuantumCircuit(2,2)\n",
    "    circuit.h(0)\n",
    "    circuit.cnot(0,1)\n",
    "    for m in qubits:\n",
    "        circuit.measure(m,m)\n",
    "    return circuit\n",
    "\n",
    "statevector = execute(prepare_circuit2(), backend=statevector_simulator).result().get_statevector()\n",
    "#     circuit.cnot(0,1)\n",
    "print(f'without measurement\\n\\t{ket2(statevector)}')\n",
    "\n",
    "print(f'measuring qubit zero')\n",
    "for i in range(8):\n",
    "    statevector = execute(prepare_circuit2([0]), backend=statevector_simulator).result().get_statevector()\n",
    "    print('\\t'+ket2(statevector))\n",
    "\n",
    "counts = execute(prepare_circuit2([0]), backend=QasmSimulator(), shots=1000).result().get_counts()\n",
    "plot_histogram(counts)"
   ]
  },
  {
   "cell_type": "code",
   "execution_count": 5,
   "metadata": {},
   "outputs": [
    {
     "name": "stdout",
     "output_type": "stream",
     "text": [
      "measuring both qubits\n",
      "\t(1+0j)|00>\n",
      "\t(1+0j)|11>\n",
      "\t(1+0j)|00>\n",
      "\t(1+0j)|11>\n",
      "\t(1+0j)|00>\n",
      "\t(1+0j)|00>\n",
      "\t(1+0j)|11>\n",
      "\t(1+0j)|11>\n"
     ]
    },
    {
     "data": {
      "image/png": "[encoded data removed]",
      "text/plain": [
       "<Figure size 504x360 with 1 Axes>"
      ]
     },
     "execution_count": 5,
     "metadata": {},
     "output_type": "execute_result"
    }
   ],
   "source": [
    "print(f'measuring both qubits')\n",
    "qubits = [0,1]\n",
    "for i in range(8):\n",
    "    statevector = execute(prepare_circuit2(qubits), backend=statevector_simulator).result().get_statevector()\n",
    "    print('\\t'+ket2(statevector))\n",
    "\n",
    "counts = execute(prepare_circuit2(qubits), backend=QasmSimulator(), shots=1000).result().get_counts()\n",
    "plot_histogram(counts)"
   ]
  },
  {
   "cell_type": "code",
   "execution_count": 9,
   "metadata": {},
   "outputs": [
    {
     "name": "stdout",
     "output_type": "stream",
     "text": [
      "without measurement\n",
      "\t(0.5+0j)|00>+(0.5+0j)|10>+(0.5+0j)|01>+(0.5+0j)|11>\n",
      "measuring qubit zero\n",
      "\t(0.707+0j)|00>+(0.707+0j)|01>\n",
      "\t(0.707+0j)|00>+(0.707+0j)|01>\n",
      "\t(0.707+0j)|00>+(0.707+0j)|01>\n",
      "\t(0.707+0j)|10>+(0.707+0j)|11>\n",
      "\t(0.707+0j)|10>+(0.707+0j)|11>\n",
      "\t(0.707+0j)|10>+(0.707+0j)|11>\n",
      "\t(0.707+0j)|10>+(0.707+0j)|11>\n",
      "\t(0.707+0j)|00>+(0.707+0j)|01>\n"
     ]
    },
    {
     "data": {
      "image/png": "[encoded data removed]",
      "text/plain": [
       "<Figure size 504x360 with 1 Axes>"
      ]
     },
     "execution_count": 9,
     "metadata": {},
     "output_type": "execute_result"
    }
   ],
   "source": [
    "def prepare_circuit3(qubits=[]):\n",
    "    circuit = qiskit.QuantumCircuit(2,2)\n",
    "    circuit.h(0)\n",
    "#     circuit.cnot(0,1)\n",
    "    circuit.h(1)\n",
    "    for m in qubits:\n",
    "        circuit.measure(m,m)\n",
    "    return circuit\n",
    "\n",
    "\n",
    "statevector = execute(prepare_circuit3(), backend=statevector_simulator).result().get_statevector()\n",
    "print(f'without measurement\\n\\t{ket2(statevector)}')\n",
    "\n",
    "print(f'measuring qubit zero')\n",
    "for i in range(8):\n",
    "    statevector = execute(prepare_circuit3([0]), backend=statevector_simulator).result().get_statevector()\n",
    "    print('\\t'+ket2(statevector))\n",
    "\n",
    "counts = execute(prepare_circuit3([0]), backend=QasmSimulator(), shots=1000).result().get_counts()\n",
    "plot_histogram(counts)"
   ]
  },
  {
   "cell_type": "code",
   "execution_count": 7,
   "metadata": {},
   "outputs": [
    {
     "name": "stdout",
     "output_type": "stream",
     "text": [
      "without measurement\n",
      "\t(0.5+0j)|00>+(0.5+0j)|10>+(0.5+0j)|01>+(0.5+0j)|11>\n",
      "measuring both qubits\n",
      "\t(1+0j)|01>\n",
      "\t(1+0j)|00>\n",
      "\t(1+0j)|11>\n",
      "\t(1+0j)|11>\n",
      "\t(1+0j)|11>\n",
      "\t(1+0j)|10>\n",
      "\t(1+0j)|01>\n",
      "\t(1+0j)|00>\n"
     ]
    },
    {
     "data": {
      "image/png": "[encoded data removed]",
      "text/plain": [
       "<Figure size 504x360 with 1 Axes>"
      ]
     },
     "execution_count": 7,
     "metadata": {},
     "output_type": "execute_result"
    }
   ],
   "source": [
    "def prepare_circuit4(qubits=[]):\n",
    "    circuit = qiskit.QuantumCircuit(2,2)\n",
    "    circuit.h(0)\n",
    "#     circuit.cnot(0,1)\n",
    "    circuit.h(1)\n",
    "    for m in qubits:\n",
    "        circuit.measure(m,m)\n",
    "    return circuit\n",
    "\n",
    "\n",
    "statevector = execute(prepare_circuit4(), backend=statevector_simulator).result().get_statevector()\n",
    "print(f'without measurement\\n\\t{ket2(statevector)}')\n",
    "\n",
    "print(f'measuring both qubits')\n",
    "qubits = [0,1]\n",
    "for i in range(8):\n",
    "    statevector = execute(prepare_circuit4(qubits), backend=statevector_simulator).result().get_statevector()\n",
    "    print('\\t'+ket2(statevector))\n",
    "\n",
    "counts = execute(prepare_circuit4(qubits), backend=QasmSimulator(), shots=1000).result().get_counts()\n",
    "plot_histogram(counts)"
   ]
  },
  {
   "cell_type": "code",
   "execution_count": null,
   "metadata": {},
   "outputs": [],
   "source": []
  }
 ],
 "metadata": {
  "kernelspec": {
   "display_name": "venv_qiskit",
   "language": "python",
   "name": "venv_qiskit"
  },
  "language_info": {
   "codemirror_mode": {
    "name": "ipython",
    "version": 3
   },
   "file_extension": ".py",
   "mimetype": "text/x-python",
   "name": "python",
   "nbconvert_exporter": "python",
   "pygments_lexer": "ipython3",
   "version": "3.8.10"
  }
 },
 "nbformat": 4,
 "nbformat_minor": 4
}
